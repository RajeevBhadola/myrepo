{
  "nbformat": 4,
  "nbformat_minor": 0,
  "metadata": {
    "colab": {
      "name": "Titanic -Survival Prediction : Learning",
      "private_outputs": true,
      "provenance": [],
      "authorship_tag": "ABX9TyNZMHKP6aP5+Ak8bRoZmAjs",
      "include_colab_link": true
    },
    "kernelspec": {
      "name": "python3",
      "display_name": "Python 3"
    },
    "language_info": {
      "name": "python"
    }
  },
  "cells": [
    {
      "cell_type": "markdown",
      "metadata": {
        "id": "view-in-github",
        "colab_type": "text"
      },
      "source": [
        "<a href=\"https://colab.research.google.com/github/RajeevBhadola/myrepo/blob/master/Titanic_Survival_Prediction_Learning.ipynb\" target=\"_parent\"><img src=\"https://colab.research.google.com/assets/colab-badge.svg\" alt=\"Open In Colab\"/></a>"
      ]
    },
    {
      "cell_type": "markdown",
      "metadata": {
        "id": "rgArfQkN_YKd"
      },
      "source": [
        "***Importing of Libraries***"
      ]
    },
    {
      "cell_type": "code",
      "metadata": {
        "id": "rWt7HtFpMsWK"
      },
      "source": [
        "#Importing the libraries\n",
        "import pandas as pd\n",
        "import numpy as np\n",
        "import matplotlib.pyplot as plt\n",
        "import seaborn as sns"
      ],
      "execution_count": null,
      "outputs": []
    },
    {
      "cell_type": "markdown",
      "metadata": {
        "id": "4FjHfU5a_Lln"
      },
      "source": [
        "***Uploading of Dataset and Creating of Dataframe***"
      ]
    },
    {
      "cell_type": "code",
      "metadata": {
        "id": "hXNnP7VgMt27"
      },
      "source": [
        "from google.colab import files\n",
        "uploaded = files.upload()"
      ],
      "execution_count": null,
      "outputs": []
    },
    {
      "cell_type": "code",
      "metadata": {
        "id": "Kq7nhVjVOK29"
      },
      "source": [
        "df = pd.read_csv('train.csv')\n",
        "df.head(2)"
      ],
      "execution_count": null,
      "outputs": []
    },
    {
      "cell_type": "markdown",
      "metadata": {
        "id": "Y1D1ZjXk-_Ci"
      },
      "source": [
        "***Analysis and Cleaning of Data***"
      ]
    },
    {
      "cell_type": "code",
      "metadata": {
        "id": "xpLebndmOUVE"
      },
      "source": [
        "df.isnull().sum()"
      ],
      "execution_count": null,
      "outputs": []
    },
    {
      "cell_type": "code",
      "metadata": {
        "id": "JgZPIfHsOhRJ"
      },
      "source": [
        "df.shape"
      ],
      "execution_count": null,
      "outputs": []
    },
    {
      "cell_type": "code",
      "metadata": {
        "id": "7wYWdPkzOnT2"
      },
      "source": [
        "df['Age'].median()"
      ],
      "execution_count": null,
      "outputs": []
    },
    {
      "cell_type": "code",
      "metadata": {
        "id": "A0Tsh3vyPJ9J"
      },
      "source": [
        "df['Age'].fillna(df['Age'].median(skipna= True), inplace = True)\n",
        "df['Embarked'].fillna(df['Embarked'].value_counts().idxmax(),inplace = True)\n",
        "df.drop('Cabin', axis = 1, inplace= True)"
      ],
      "execution_count": null,
      "outputs": []
    },
    {
      "cell_type": "code",
      "metadata": {
        "id": "tZ3Ck16wQ9gP"
      },
      "source": [
        "df.info()"
      ],
      "execution_count": null,
      "outputs": []
    },
    {
      "cell_type": "code",
      "metadata": {
        "id": "2zmT_vjERAil"
      },
      "source": [
        "df.isna().sum()"
      ],
      "execution_count": null,
      "outputs": []
    },
    {
      "cell_type": "code",
      "metadata": {
        "id": "VUstE03RRYrm"
      },
      "source": [
        "df.drop(['PassengerId','Name','Ticket'], axis = 1, inplace= True)"
      ],
      "execution_count": null,
      "outputs": []
    },
    {
      "cell_type": "code",
      "metadata": {
        "id": "bmPJmXZPS7sQ"
      },
      "source": [
        "df.head(2)"
      ],
      "execution_count": null,
      "outputs": []
    },
    {
      "cell_type": "code",
      "metadata": {
        "id": "38h7y_5OToog"
      },
      "source": [
        "#df['Alone'] = np.where((df['Parch'] + df['SibSp'])>0, 0,1)# combining SibSp and Parch\n",
        "df.drop(['SibSp', 'Parch'], axis= 1, inplace= True)"
      ],
      "execution_count": null,
      "outputs": []
    },
    {
      "cell_type": "code",
      "metadata": {
        "id": "htqJscF3UwHj"
      },
      "source": [
        "df.shape"
      ],
      "execution_count": null,
      "outputs": []
    },
    {
      "cell_type": "code",
      "metadata": {
        "id": "T69bi8iuVhgz"
      },
      "source": [
        "df.info()"
      ],
      "execution_count": null,
      "outputs": []
    },
    {
      "cell_type": "code",
      "metadata": {
        "id": "NS32EFNeV8NV"
      },
      "source": [
        "df.describe()"
      ],
      "execution_count": null,
      "outputs": []
    },
    {
      "cell_type": "code",
      "metadata": {
        "id": "XcQo9ndNWBi0"
      },
      "source": [
        "sns.countplot('Sex', data =df)\n",
        "df['Sex'].value_counts();"
      ],
      "execution_count": null,
      "outputs": []
    },
    {
      "cell_type": "code",
      "metadata": {
        "id": "7KKrmPmBXpf-"
      },
      "source": [
        "sns.barplot(x='Sex', y= 'Survived', data = df)\n",
        "df.groupby('Sex',as_index=False).Survived.mean()"
      ],
      "execution_count": null,
      "outputs": []
    },
    {
      "cell_type": "code",
      "metadata": {
        "id": "v9QMmDZ3f4EW"
      },
      "source": [
        "sns.countplot('Survived', hue= 'Sex', data = df);"
      ],
      "execution_count": null,
      "outputs": []
    },
    {
      "cell_type": "code",
      "metadata": {
        "id": "Sd--7AGQgQ1h"
      },
      "source": [
        "sns.countplot('Pclass', data = df);\n",
        "df['Pclass'].value_counts()"
      ],
      "execution_count": null,
      "outputs": []
    },
    {
      "cell_type": "code",
      "metadata": {
        "id": "vSuoIbq7g3cc"
      },
      "source": [
        "sns.barplot(x='Pclass', y = 'Survived', data=df);\n",
        "df.groupby('Pclass', as_index= False).Survived.mean()"
      ],
      "execution_count": null,
      "outputs": []
    },
    {
      "cell_type": "code",
      "metadata": {
        "id": "ZXxGuqXmhd3j"
      },
      "source": [
        "sns.countplot(x = 'Survived', hue = 'Pclass', data= df);"
      ],
      "execution_count": null,
      "outputs": []
    },
    {
      "cell_type": "code",
      "metadata": {
        "id": "K94cXFKHh_bn"
      },
      "source": [
        "sns.countplot('Embarked', data=df);\n",
        "df['Embarked'].value_counts()"
      ],
      "execution_count": null,
      "outputs": []
    },
    {
      "cell_type": "code",
      "metadata": {
        "id": "vPum3rqiiY0m"
      },
      "source": [
        "sns.barplot(x ='Embarked', y='Survived',data = df);\n",
        "df.groupby('Embarked', as_index = False).Survived.mean()"
      ],
      "execution_count": null,
      "outputs": []
    },
    {
      "cell_type": "code",
      "metadata": {
        "id": "T2ShuDb3i8hW"
      },
      "source": [
        "sns.countplot('Survived', hue ='Embarked',data = df);"
      ],
      "execution_count": null,
      "outputs": []
    },
    {
      "cell_type": "code",
      "metadata": {
        "id": "0LCW26lWj1a3"
      },
      "source": [
        "sns.countplot('Alone', data=df);\n",
        "df['Alone'].value_counts()"
      ],
      "execution_count": null,
      "outputs": []
    },
    {
      "cell_type": "code",
      "metadata": {
        "id": "vpHtU9bfkUbC"
      },
      "source": [
        "sns.barplot(x= 'Alone', y ='Survived', data= df);\n",
        "df.groupby('Alone', as_index = False).Survived.mean()"
      ],
      "execution_count": null,
      "outputs": []
    },
    {
      "cell_type": "code",
      "metadata": {
        "id": "s6xHifOElCau"
      },
      "source": [
        "df.Age.hist()\n",
        "df.Age.median()"
      ],
      "execution_count": null,
      "outputs": []
    },
    {
      "cell_type": "code",
      "metadata": {
        "id": "n45OziAqlqMp"
      },
      "source": [
        "sns.lmplot('Age', 'Survived', data = df)"
      ],
      "execution_count": null,
      "outputs": []
    },
    {
      "cell_type": "code",
      "metadata": {
        "id": "JmTF0ajzmkhU"
      },
      "source": [
        "sns.countplot('Survived', data =df);\n",
        "df['Survived'].value_counts()"
      ],
      "execution_count": null,
      "outputs": []
    },
    {
      "cell_type": "code",
      "metadata": {
        "id": "5HapLQmlm7gY"
      },
      "source": [
        "df.corr()"
      ],
      "execution_count": null,
      "outputs": []
    },
    {
      "cell_type": "code",
      "metadata": {
        "id": "8Qe-Z8K7naOl"
      },
      "source": [
        "from sklearn import preprocessing\n",
        "Col = ['Sex', 'Embarked']\n",
        "label_encoder = preprocessing.LabelEncoder()\n",
        "df[Col]= df[Col].apply(label_encoder.fit_transform)"
      ],
      "execution_count": null,
      "outputs": []
    },
    {
      "cell_type": "code",
      "metadata": {
        "id": "OJi5GYYVqbJf"
      },
      "source": [
        "df.head(2)"
      ],
      "execution_count": null,
      "outputs": []
    },
    {
      "cell_type": "code",
      "metadata": {
        "id": "JjTFTzeJqfXn"
      },
      "source": [
        "X = df.drop('Survived', axis=1)\n",
        "y =df['Survived']"
      ],
      "execution_count": null,
      "outputs": []
    },
    {
      "cell_type": "markdown",
      "metadata": {
        "id": "ALALy-tH-pMw"
      },
      "source": [
        "***Split data into Test and Train***"
      ]
    },
    {
      "cell_type": "code",
      "metadata": {
        "id": "hZAiVwGfq0uD"
      },
      "source": [
        "from sklearn.model_selection import train_test_split\n",
        "train_X, test_X, train_y, test_y = train_test_split(X, y, test_size =0.2, random_state = 2)\n",
        "print(train_X.shape, train_y.shape)"
      ],
      "execution_count": null,
      "outputs": []
    },
    {
      "cell_type": "markdown",
      "metadata": {
        "id": "5NxQuzqR-M8S"
      },
      "source": [
        "***Apply, Train Model and Predict***"
      ]
    },
    {
      "cell_type": "code",
      "metadata": {
        "id": "vWQ1hGRIq1dH"
      },
      "source": [
        "from sklearn.linear_model import LogisticRegression\n",
        "lr= LogisticRegression()\n",
        "lr.fit(train_X, train_y)"
      ],
      "execution_count": null,
      "outputs": []
    },
    {
      "cell_type": "code",
      "metadata": {
        "id": "UkJUC1axsz09"
      },
      "source": [
        "predict_y = lr.predict(test_X)"
      ],
      "execution_count": null,
      "outputs": []
    },
    {
      "cell_type": "code",
      "metadata": {
        "id": "_-DlEIjizDc9"
      },
      "source": [
        "predict_y"
      ],
      "execution_count": null,
      "outputs": []
    },
    {
      "cell_type": "markdown",
      "metadata": {
        "id": "0ouplF57-Evj"
      },
      "source": [
        "***Check Actual Vs Predicted Values***"
      ]
    },
    {
      "cell_type": "code",
      "metadata": {
        "id": "Jb5flebQzOT9"
      },
      "source": [
        "df_result = pd.DataFrame({'Actual_Value : ':test_y, 'Predicted_Value : ': predict_y})\n",
        "df_result.head(10)"
      ],
      "execution_count": null,
      "outputs": []
    },
    {
      "cell_type": "markdown",
      "metadata": {
        "id": "11BXSWj695mi"
      },
      "source": [
        "***Evaulating Model***"
      ]
    },
    {
      "cell_type": "code",
      "metadata": {
        "id": "tC3cdGPN0NT9"
      },
      "source": [
        "from sklearn import metrics\n",
        "from sklearn.metrics import classification_report, confusion_matrix\n",
        "matrix = confusion_matrix(test_y, predict_y)\n",
        "matrix"
      ],
      "execution_count": null,
      "outputs": []
    },
    {
      "cell_type": "code",
      "metadata": {
        "id": "eQTfMn2W83SA"
      },
      "source": [
        "sns.heatmap(matrix, annot=True, fmt=\"d\");\n",
        "plt.title('Confusion Matrix')\n",
        "plt.xlabel('Predicted')\n",
        "plt.ylabel('True')"
      ],
      "execution_count": null,
      "outputs": []
    },
    {
      "cell_type": "code",
      "metadata": {
        "id": "8hDePlxB9DKP"
      },
      "source": [
        "print(classification_report(test_y, predict_y))"
      ],
      "execution_count": null,
      "outputs": []
    },
    {
      "cell_type": "code",
      "metadata": {
        "id": "2bCQDW989rXZ"
      },
      "source": [
        ""
      ],
      "execution_count": null,
      "outputs": []
    }
  ]
}
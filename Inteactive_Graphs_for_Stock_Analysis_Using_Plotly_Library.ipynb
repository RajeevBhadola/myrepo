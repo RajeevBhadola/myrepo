{
  "nbformat": 4,
  "nbformat_minor": 0,
  "metadata": {
    "colab": {
      "name": "Inteactive Graphs for Stock Analysis Using Plotly Library",
      "private_outputs": true,
      "provenance": [],
      "authorship_tag": "ABX9TyPEskvQVOIIabdSsmDjkxox",
      "include_colab_link": true
    },
    "kernelspec": {
      "name": "python3",
      "display_name": "Python 3"
    },
    "language_info": {
      "name": "python"
    }
  },
  "cells": [
    {
      "cell_type": "markdown",
      "metadata": {
        "id": "view-in-github",
        "colab_type": "text"
      },
      "source": [
        "<a href=\"https://colab.research.google.com/github/RajeevBhadola/myrepo/blob/master/Inteactive_Graphs_for_Stock_Analysis_Using_Plotly_Library.ipynb\" target=\"_parent\"><img src=\"https://colab.research.google.com/assets/colab-badge.svg\" alt=\"Open In Colab\"/></a>"
      ]
    },
    {
      "cell_type": "markdown",
      "metadata": {
        "id": "UFqi-R9z24l3"
      },
      "source": [
        "# ***Creating Interactive Graphs Using Plotly Library***"
      ]
    },
    {
      "cell_type": "markdown",
      "metadata": {
        "id": "HesxP6a60Ifq"
      },
      "source": [
        "In this article we would discuss how to create interactive plots for technical analysis of stocks using Plotly library. All libraries used in this article are open source and dataset has been obtained using yfinance libraries. The USP of the plot is that the while hovering the mouse over the any point on plotted line displays information associated with the data point.In adddition the functionality has been provided to the user to zoom a selected area of graph. to zoom. Both these functionality makes it easier for an analyst to relate to the information and easly focus on aspecific period of interest. The enviorment used here is google-colab jupyter notebook. "
      ]
    },
    {
      "cell_type": "markdown",
      "metadata": {
        "id": "V380kbMq3M6a"
      },
      "source": [
        "To set up the environment open new file in google colab and install the plotly, cufflinks and yfinace libraries. The plotly library would be used for creation and display of the graph in jupyter notebook environment and yfinance library is used to import the timeseries stock data which would be used for creation of the plot. The cufflinks library binds the power of Plotly with the flexibility of Pandas for easy plotting"
      ]
    },
    {
      "cell_type": "code",
      "metadata": {
        "id": "KZVX1GM7ltdS"
      },
      "source": [
        "!pip install plotly\n",
        "!pip install cufflinks\n",
        "!pip install yfinance\n",
        "!pip install finplot"
      ],
      "execution_count": null,
      "outputs": []
    },
    {
      "cell_type": "markdown",
      "metadata": {
        "id": "DKZcjgSB4Q-5"
      },
      "source": [
        "Once the libraries are install, in order to use them these would be needed to be called into the enviroment. In addition to importing yfinance, cufflink and certain specific pacakages from plotly, We would also import pandas, numpy libraries which are required for dataframe manipulation and maths functions respectively. We import certain packages from plotly library which would work with dataset visualization in offline mode. init_notebook_mode is used to connect the Javascript to the jupyter notebook."
      ]
    },
    {
      "cell_type": "code",
      "metadata": {
        "id": "4HPNdGCQlytA"
      },
      "source": [
        "import pandas as pd\n",
        "import numpy as np\n",
        "import yfinance as yf\n",
        "%matplotlib inline"
      ],
      "execution_count": null,
      "outputs": []
    },
    {
      "cell_type": "code",
      "metadata": {
        "id": "U-ebuKyqlz_G"
      },
      "source": [
        "from plotly.offline import download_plotlyjs, init_notebook_mode, plot, iplot\n",
        "init_notebook_mode(connected=True)\n",
        "import cufflinks as cf\n",
        "cf.go_offline()"
      ],
      "execution_count": null,
      "outputs": []
    },
    {
      "cell_type": "markdown",
      "metadata": {
        "id": "gtnm90ju9h9w"
      },
      "source": [
        "A function is required to be created to configure plotly browser state. I would not dwell in this aspect any further. This function allows th egraph to be displayed in the Jupyter Notebook and is required to be called in every cell where plot function is used in the notebook."
      ]
    },
    {
      "cell_type": "code",
      "metadata": {
        "id": "kmJlT6yEmH-M"
      },
      "source": [
        "def configure_plotly_browser_state():\n",
        "  import IPython\n",
        "  display(IPython.core.display.HTML('''\n",
        "        <script src=\"/static/components/requirejs/require.js\"></script>\n",
        "        <script>\n",
        "          requirejs.config({\n",
        "            paths: {\n",
        "              base: '/static/base',\n",
        "              plotly: 'https://cdn.plot.ly/plotly-latest.min.js?noext',\n",
        "            },\n",
        "          });\n",
        "        </script>\n",
        "        '''))"
      ],
      "execution_count": null,
      "outputs": []
    },
    {
      "cell_type": "markdown",
      "metadata": {
        "id": "Fnc-X3kU-jgO"
      },
      "source": [
        "Now we would create a timeseries dataframe, the symbol for a specific stock can be searched from yahoo finance website. We shall download data pertaining to ITC stock from yahoo finance and create a timeseries dataframe named ITC. The parameter period is set to maximum period and interval is kept one day respectively while importing the data.Thereafter call the function configure_plotly_browser_state() in the cell befor excuting dataset.iplot command in the Cell. On executuion of the command a graph would be displayed. The user can now customize the graph by zooming in/out and point to a particular datapoint to see the information at that specific point.Kind = spread inside iplot plots the variation betwween the two units(Open and close in this case) on a specific point(date)."
      ]
    },
    {
      "cell_type": "code",
      "metadata": {
        "id": "41h-LmU0mLDm"
      },
      "source": [
        "ITC= yf.download('ITC.NS', period ='max',interval = '1d')"
      ],
      "execution_count": null,
      "outputs": []
    },
    {
      "cell_type": "code",
      "metadata": {
        "id": "Uw2p3gDTn7Kb"
      },
      "source": [
        "configure_plotly_browser_state()\n",
        "ITC[['Open', 'Close']].iplot(kind= 'spread')"
      ],
      "execution_count": null,
      "outputs": []
    },
    {
      "cell_type": "markdown",
      "metadata": {
        "id": "sb0hBOIrEp1q"
      },
      "source": [
        ""
      ]
    },
    {
      "cell_type": "code",
      "metadata": {
        "id": "zBQwqUNioQ4p"
      },
      "source": [
        "configure_plotly_browser_state()\n",
        "ITC[['Volume']].iplot()"
      ],
      "execution_count": null,
      "outputs": []
    },
    {
      "cell_type": "code",
      "metadata": {
        "id": "5Y4qiyPlF2YT"
      },
      "source": [
        ""
      ],
      "execution_count": null,
      "outputs": []
    }
  ]
}
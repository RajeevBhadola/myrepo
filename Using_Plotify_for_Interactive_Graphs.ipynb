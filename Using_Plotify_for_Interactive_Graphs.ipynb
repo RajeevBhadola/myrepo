{
  "nbformat": 4,
  "nbformat_minor": 0,
  "metadata": {
    "colab": {
      "name": "Using Plotify for Interactive Graphs ",
      "private_outputs": true,
      "provenance": [],
      "authorship_tag": "ABX9TyPPabZoD7nrRcMY0D4zFLXL",
      "include_colab_link": true
    },
    "kernelspec": {
      "name": "python3",
      "display_name": "Python 3"
    },
    "language_info": {
      "name": "python"
    }
  },
  "cells": [
    {
      "cell_type": "markdown",
      "metadata": {
        "id": "view-in-github",
        "colab_type": "text"
      },
      "source": [
        "<a href=\"https://colab.research.google.com/github/RajeevBhadola/myrepo/blob/master/Using_Plotify_for_Interactive_Graphs.ipynb\" target=\"_parent\"><img src=\"https://colab.research.google.com/assets/colab-badge.svg\" alt=\"Open In Colab\"/></a>"
      ]
    },
    {
      "cell_type": "code",
      "metadata": {
        "id": "Y4VbnByIecFS"
      },
      "source": [
        "!pip install plotly\n"
      ],
      "execution_count": null,
      "outputs": []
    },
    {
      "cell_type": "code",
      "metadata": {
        "id": "k4ngIyi9eg01"
      },
      "source": [
        "!pip install cufflinks"
      ],
      "execution_count": null,
      "outputs": []
    },
    {
      "cell_type": "code",
      "metadata": {
        "id": "cXUl3frreqr8"
      },
      "source": [
        "import pandas as pd\n",
        "import numpy as np\n",
        "%matplotlib inline"
      ],
      "execution_count": null,
      "outputs": []
    },
    {
      "cell_type": "code",
      "metadata": {
        "id": "ZMr1f06yeu3U"
      },
      "source": [
        "from plotly.offline import download_plotlyjs, init_notebook_mode, plot, iplot"
      ],
      "execution_count": null,
      "outputs": []
    },
    {
      "cell_type": "code",
      "metadata": {
        "id": "Gknu--wJe0jH"
      },
      "source": [
        "init_notebook_mode(connected=True)"
      ],
      "execution_count": null,
      "outputs": []
    },
    {
      "cell_type": "code",
      "metadata": {
        "id": "RvRf0YtSe8Gk"
      },
      "source": [
        "import cufflinks as cf\n",
        "cf.go_offline()"
      ],
      "execution_count": null,
      "outputs": []
    },
    {
      "cell_type": "code",
      "metadata": {
        "id": "FORJy__TfFRz"
      },
      "source": [
        "import seaborn as sns\n",
        "dataset = sns.load_dataset('tips')\n",
        "dataset.head()"
      ],
      "execution_count": null,
      "outputs": []
    },
    {
      "cell_type": "code",
      "metadata": {
        "id": "elzotGYDh5uj"
      },
      "source": [
        "def configure_plotly_browser_state():\n",
        "  import IPython\n",
        "  display(IPython.core.display.HTML('''\n",
        "        <script src=\"/static/components/requirejs/require.js\"></script>\n",
        "        <script>\n",
        "          requirejs.config({\n",
        "            paths: {\n",
        "              base: '/static/base',\n",
        "              plotly: 'https://cdn.plot.ly/plotly-latest.min.js?noext',\n",
        "            },\n",
        "          });\n",
        "        </script>\n",
        "        '''))"
      ],
      "execution_count": null,
      "outputs": []
    },
    {
      "cell_type": "code",
      "metadata": {
        "id": "UMPgpd3UfTIe"
      },
      "source": [
        "configure_plotly_browser_state()\n",
        "dataset2 = dataset[['total_bill', 'tip','size']]\n",
        "print(dataset2.head(2))\n",
        "dataset2.iplot()"
      ],
      "execution_count": null,
      "outputs": []
    },
    {
      "cell_type": "code",
      "metadata": {
        "id": "K3PQeTZtfsrd"
      },
      "source": [
        "configure_plotly_browser_state()\n",
        "dataset.iplot(kind='bar', x=['time', 'sex'],y='total_bill')"
      ],
      "execution_count": null,
      "outputs": []
    },
    {
      "cell_type": "code",
      "metadata": {
        "id": "rrzQWgZJgqnB"
      },
      "source": [
        "configure_plotly_browser_state()\n",
        "dataset.mean().iplot(kind='barh')"
      ],
      "execution_count": null,
      "outputs": []
    },
    {
      "cell_type": "code",
      "metadata": {
        "id": "cLGFKDpjiuAN"
      },
      "source": [
        "configure_plotly_browser_state()\n",
        "dataset.iplot(kind='scatter', x='total_bill', y='tip', mode='markers')"
      ],
      "execution_count": null,
      "outputs": []
    },
    {
      "cell_type": "code",
      "metadata": {
        "id": "wkLiCbDYi-qr"
      },
      "source": [
        ""
      ],
      "execution_count": null,
      "outputs": []
    }
  ]
}
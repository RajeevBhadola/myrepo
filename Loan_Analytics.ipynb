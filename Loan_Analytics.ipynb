{
  "nbformat": 4,
  "nbformat_minor": 0,
  "metadata": {
    "colab": {
      "name": "Loan Analytics",
      "private_outputs": true,
      "provenance": [],
      "collapsed_sections": [],
      "authorship_tag": "ABX9TyMEhRQ8dWh7HNDVaSjTwSWB",
      "include_colab_link": true
    },
    "kernelspec": {
      "name": "python3",
      "display_name": "Python 3"
    }
  },
  "cells": [
    {
      "cell_type": "markdown",
      "metadata": {
        "id": "view-in-github",
        "colab_type": "text"
      },
      "source": [
        "<a href=\"https://colab.research.google.com/github/RajeevBhadola/myrepo/blob/master/Loan_Analytics.ipynb\" target=\"_parent\"><img src=\"https://colab.research.google.com/assets/colab-badge.svg\" alt=\"Open In Colab\"/></a>"
      ]
    },
    {
      "cell_type": "code",
      "metadata": {
        "id": "HGsCQIq18l6T"
      },
      "source": [
        "import numpy as np\r\n",
        "import pandas as pd\r\n",
        "import matplotlib.pyplot as plt\r\n",
        "import seaborn as sns\r\n",
        "%matplotlib inline\r\n",
        "from sklearn.model_selection import train_test_split\r\n",
        "from sklearn.linear_model import LogisticRegression\r\n",
        "from sklearn.metrics import f1_score"
      ],
      "execution_count": null,
      "outputs": []
    },
    {
      "cell_type": "code",
      "metadata": {
        "id": "eL_-yGDw8yfe"
      },
      "source": [
        "from google.colab import files\r\n",
        "\r\n",
        "uploaded = files.upload()\r\n",
        "\r\n",
        "for fn in uploaded.keys():\r\n",
        "  print('User uploaded file \"{name}\" with length {length} bytes'.format(\r\n",
        "      name=fn, length=len(uploaded[fn])))"
      ],
      "execution_count": null,
      "outputs": []
    },
    {
      "cell_type": "code",
      "metadata": {
        "id": "CP0oxeyl9EtG"
      },
      "source": [
        "Train = pd.read_csv('train_ctrUa4K.csv')\r\n",
        "Test = pd.read_csv('test_lAUu6dG.csv')"
      ],
      "execution_count": null,
      "outputs": []
    },
    {
      "cell_type": "code",
      "metadata": {
        "id": "FQx-WZWJ9Xa4"
      },
      "source": [
        "Train.tail()"
      ],
      "execution_count": null,
      "outputs": []
    },
    {
      "cell_type": "code",
      "metadata": {
        "id": "ZkNFaX139lIl"
      },
      "source": [
        "Train.isnull().sum()"
      ],
      "execution_count": null,
      "outputs": []
    },
    {
      "cell_type": "code",
      "metadata": {
        "id": "RRt1-jkd9pe5"
      },
      "source": [
        "Train['Gender'] = Train['Gender'].fillna(Train['Gender'].mode()[0])\r\n",
        "Train['Married'] = Train['Married'].fillna(Train['Married'].mode()[0])\r\n",
        "Train['Dependents'] = Train['Dependents'].fillna(Train['Dependents'].mode()[0])\r\n",
        "Train['Self_Employed'] = Train['Self_Employed'].fillna(Train['Self_Employed'].mode()[0])\r\n",
        "Train['LoanAmount'] = Train['LoanAmount'].fillna(Train['LoanAmount'].median())\r\n",
        "Train['Loan_Amount_Term'] = Train['Loan_Amount_Term'].fillna(Train['Loan_Amount_Term'].mode().values[0])\r\n",
        "Train['Credit_History'] = Train['Credit_History'].fillna(Train['Credit_History'].mode().values[0])"
      ],
      "execution_count": null,
      "outputs": []
    },
    {
      "cell_type": "code",
      "metadata": {
        "id": "jSTaXeR2EwSA"
      },
      "source": [
        "sns.countplot(y='Married', hue = 'Loan_Status', data= Train)"
      ],
      "execution_count": null,
      "outputs": []
    },
    {
      "cell_type": "code",
      "metadata": {
        "id": "rK1qPmzXLkcr"
      },
      "source": [
        "sns.countplot(y='Gender', hue = 'Loan_Status', data= Train)"
      ],
      "execution_count": null,
      "outputs": []
    },
    {
      "cell_type": "code",
      "metadata": {
        "id": "3aeFN8NfrsXy"
      },
      "source": [
        "sns.countplot(y='Self_Employed', hue = 'Loan_Status', data= Train)"
      ],
      "execution_count": null,
      "outputs": []
    },
    {
      "cell_type": "code",
      "metadata": {
        "id": "gteY15xUslXz"
      },
      "source": [
        "sns.countplot(y='Credit_History', hue = 'Loan_Status', data= Train)"
      ],
      "execution_count": null,
      "outputs": []
    },
    {
      "cell_type": "code",
      "metadata": {
        "id": "xFHoJIjdsx6p"
      },
      "source": [
        "sns.countplot(y='Loan_Amount_Term', hue = 'Loan_Status', data= Train)"
      ],
      "execution_count": null,
      "outputs": []
    },
    {
      "cell_type": "code",
      "metadata": {
        "id": "FUqB9eYEvbzR"
      },
      "source": [
        "Input_Values = {'Yes': 2, 'No':1, 'Graduate':2, 'Not Graduate':1, 'Male':2,'Female':1, 'Urban':2, 'Rural':1,'Semiurban':3, '3+': 3, 'Y':1,'N':0}\r\n",
        "Train =Train.applymap(lambda x: Input_Values.get(x) if x in Input_Values else x)"
      ],
      "execution_count": null,
      "outputs": []
    },
    {
      "cell_type": "code",
      "metadata": {
        "id": "kzixnTth0Wf8"
      },
      "source": [
        "Train.drop(['Loan_ID'], axis=1, inplace=True)"
      ],
      "execution_count": null,
      "outputs": []
    },
    {
      "cell_type": "code",
      "metadata": {
        "id": "lZAJloX84Rhl"
      },
      "source": [
        "Train.head()"
      ],
      "execution_count": null,
      "outputs": []
    },
    {
      "cell_type": "code",
      "metadata": {
        "id": "pLyeCUiE6Qmq"
      },
      "source": [
        "Train.info()"
      ],
      "execution_count": null,
      "outputs": []
    },
    {
      "cell_type": "code",
      "metadata": {
        "id": "4rln_84h-ARh"
      },
      "source": [
        "Train['Dependents'] = Train['Dependents'].apply(pd.to_numeric, errors='coerce')"
      ],
      "execution_count": null,
      "outputs": []
    },
    {
      "cell_type": "code",
      "metadata": {
        "id": "IxWPr3J__7V4"
      },
      "source": [
        "Train.info()"
      ],
      "execution_count": null,
      "outputs": []
    },
    {
      "cell_type": "code",
      "metadata": {
        "id": "Z0V_D58-_-Gh"
      },
      "source": [
        "sns.heatmap(Train.corr())"
      ],
      "execution_count": null,
      "outputs": []
    },
    {
      "cell_type": "code",
      "metadata": {
        "id": "RL8uQ0NAAVGf"
      },
      "source": [
        "Train_X = Train.drop('Loan_Status', axis = 1)\r\n",
        "Train_Y = Train['Loan_Status']"
      ],
      "execution_count": null,
      "outputs": []
    },
    {
      "cell_type": "code",
      "metadata": {
        "id": "5lqC7haifhMt"
      },
      "source": [
        "train_X, test_X, train_y, test_y = train_test_split(Train_X, Train_Y, test_size = 0.2, random_state = 0)"
      ],
      "execution_count": null,
      "outputs": []
    },
    {
      "cell_type": "code",
      "metadata": {
        "id": "7UmBM0ssgxDZ"
      },
      "source": [
        "model = LogisticRegression(max_iter=200)\r\n",
        "model.fit(train_X, train_y)\r\n",
        "predicted_y = model.predict(test_X)"
      ],
      "execution_count": null,
      "outputs": []
    },
    {
      "cell_type": "code",
      "metadata": {
        "id": "DqI059VJnUXs"
      },
      "source": [
        "acuracy_score = f1_score(test_y, predicted_y)\r\n",
        "acuracy_score"
      ],
      "execution_count": null,
      "outputs": []
    },
    {
      "cell_type": "code",
      "metadata": {
        "id": "oRzuAau8sxRH"
      },
      "source": [
        "Test.head()\r\n",
        "\r\n"
      ],
      "execution_count": null,
      "outputs": []
    },
    {
      "cell_type": "code",
      "metadata": {
        "id": "vwCko6rT3rq9"
      },
      "source": [
        "Input_Values = {'Yes': 2, 'No':1, 'Graduate':2, 'Not Graduate':1, 'Male':2,'Female':1, 'Urban':2, 'Rural':1,'Semiurban':3, '3+': 3, 'Y':1,'N':0}\r\n",
        "Test =Test.applymap(lambda x: Input_Values.get(x) if x in Input_Values else x) "
      ],
      "execution_count": null,
      "outputs": []
    },
    {
      "cell_type": "code",
      "metadata": {
        "id": "0VfH-JHh2dTG"
      },
      "source": [
        "Test['Gender'] = Test['Gender'].fillna(Test['Gender'].mode()[0])\r\n",
        "Test['Married'] = Test['Married'].fillna(Test['Married'].mode()[0])\r\n",
        "Test['Dependents'] = Test['Dependents'].fillna(Test['Dependents'].mode()[0])\r\n",
        "Test['Self_Employed'] = Test['Self_Employed'].fillna(Test['Self_Employed'].mode()[0])\r\n",
        "Test['LoanAmount'] = Test['LoanAmount'].fillna(Test['LoanAmount'].median())\r\n",
        "Test['Loan_Amount_Term'] = Test['Loan_Amount_Term'].fillna(Test['Loan_Amount_Term'].mode().values[0])\r\n",
        "Test['Credit_History'] = Test['Credit_History'].fillna(Test['Credit_History'].mode().values[0])"
      ],
      "execution_count": null,
      "outputs": []
    },
    {
      "cell_type": "code",
      "metadata": {
        "id": "mNzX7GVu3XHo"
      },
      "source": [
        "Test['Dependents'] = Test['Dependents'].apply(pd.to_numeric, errors='coerce')\r\n",
        "Final = Test.drop('Loan_ID', axis =1, inplace=False)\r\n",
        "Test.info()"
      ],
      "execution_count": null,
      "outputs": []
    },
    {
      "cell_type": "code",
      "metadata": {
        "id": "3Q3uKMMV3Z8B"
      },
      "source": [
        "Final.head()"
      ],
      "execution_count": null,
      "outputs": []
    },
    {
      "cell_type": "code",
      "metadata": {
        "id": "idPNVQgvntSS"
      },
      "source": [
        "Test['Loan_Status']= model.predict(Final)"
      ],
      "execution_count": null,
      "outputs": []
    },
    {
      "cell_type": "code",
      "metadata": {
        "id": "Y5twhFOIsUn0"
      },
      "source": [
        "Test['Loan_Status'] = Test['Loan_Status'].astype(int).astype(str)"
      ],
      "execution_count": null,
      "outputs": []
    },
    {
      "cell_type": "code",
      "metadata": {
        "id": "FOkHiGEUuFhG"
      },
      "source": [
        "Test.info()"
      ],
      "execution_count": null,
      "outputs": []
    },
    {
      "cell_type": "code",
      "metadata": {
        "id": "bkM0zLmlwYyL"
      },
      "source": [
        "Input_Values = { '1':'Y','0':'N'}\r\n",
        "Test =Test.applymap(lambda x: Input_Values.get(x) if x in Input_Values else x)"
      ],
      "execution_count": null,
      "outputs": []
    },
    {
      "cell_type": "code",
      "metadata": {
        "id": "4I8lVWomxZft"
      },
      "source": [
        "Test.head()"
      ],
      "execution_count": null,
      "outputs": []
    },
    {
      "cell_type": "code",
      "metadata": {
        "id": "rvyDa2_Cy19B"
      },
      "source": [
        "Test = Test.drop(['Gender','Married', 'Dependents', 'Self_Employed','Education','ApplicantIncome','CoapplicantIncome',\r\n",
        "                  'LoanAmount','Loan_Amount_Term', 'Credit_History', 'Property_Area'], axis=1)"
      ],
      "execution_count": null,
      "outputs": []
    },
    {
      "cell_type": "code",
      "metadata": {
        "id": "LX2TvK0m1wtr"
      },
      "source": [
        "Test.set_index('Loan_ID', inplace=True)\r\n",
        "Test.head()"
      ],
      "execution_count": null,
      "outputs": []
    },
    {
      "cell_type": "code",
      "metadata": {
        "id": "pjV2rceZ9Mfh"
      },
      "source": [
        "from google.colab import files\r\n",
        "\r\n",
        "# e.g. save pandas output as csv\r\n",
        "Test.to_csv('Submission.csv')\r\n",
        "\r\n",
        "# or any other file as usual\r\n",
        "# with open('example.csv', 'w') as f:\r\n",
        "#   f.write('your strings here')\r\n",
        "\r\n",
        "files.download('Submission.csv')"
      ],
      "execution_count": null,
      "outputs": []
    },
    {
      "cell_type": "code",
      "metadata": {
        "id": "wPjO-3gC9_f_"
      },
      "source": [
        ""
      ],
      "execution_count": null,
      "outputs": []
    },
    {
      "cell_type": "markdown",
      "metadata": {
        "id": "mC5J5qn3FbpF"
      },
      "source": [
        "# New Section"
      ]
    }
  ]
}
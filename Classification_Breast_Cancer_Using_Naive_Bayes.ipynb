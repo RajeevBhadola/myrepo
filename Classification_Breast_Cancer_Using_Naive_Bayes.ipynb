{
  "nbformat": 4,
  "nbformat_minor": 0,
  "metadata": {
    "colab": {
      "name": "Classification- Breast Cancer Using Naive Bayes",
      "private_outputs": true,
      "provenance": [],
      "collapsed_sections": [],
      "authorship_tag": "ABX9TyP70Zs6gKX//xmuv1T61TfY",
      "include_colab_link": true
    },
    "kernelspec": {
      "name": "python3",
      "display_name": "Python 3"
    },
    "language_info": {
      "name": "python"
    }
  },
  "cells": [
    {
      "cell_type": "markdown",
      "metadata": {
        "id": "view-in-github",
        "colab_type": "text"
      },
      "source": [
        "<a href=\"https://colab.research.google.com/github/RajeevBhadola/myrepo/blob/master/Classification_Breast_Cancer_Using_Naive_Bayes.ipynb\" target=\"_parent\"><img src=\"https://colab.research.google.com/assets/colab-badge.svg\" alt=\"Open In Colab\"/></a>"
      ]
    },
    {
      "cell_type": "markdown",
      "metadata": {
        "id": "hwUbqjra0ILW"
      },
      "source": [
        "**Imorting required libraries**"
      ]
    },
    {
      "cell_type": "code",
      "metadata": {
        "id": "jV6k6QEiYYVW"
      },
      "source": [
        "import numpy as np\n",
        "import pandas as pd\n",
        "import matplotlib.pyplot as plt\n",
        "from sklearn.datasets import load_breast_cancer\n",
        "from sklearn.model_selection import train_test_split\n",
        "from sklearn.naive_bayes import GaussianNB\n",
        "from sklearn.metrics import accuracy_score"
      ],
      "execution_count": null,
      "outputs": []
    },
    {
      "cell_type": "markdown",
      "metadata": {
        "id": "SvmWVFej0Rtk"
      },
      "source": [
        "**Import the dataset from sklearn datsets**"
      ]
    },
    {
      "cell_type": "code",
      "metadata": {
        "id": "N5hkv58mqUWJ"
      },
      "source": [
        "df = load_breast_cancer()\n",
        "df"
      ],
      "execution_count": null,
      "outputs": []
    },
    {
      "cell_type": "markdown",
      "metadata": {
        "id": "IoqoLBUy0fDY"
      },
      "source": [
        "**Mapping features and labels within the dataset**"
      ]
    },
    {
      "cell_type": "code",
      "metadata": {
        "id": "nTPFPTr3qdN1"
      },
      "source": [
        "label_names = df['target_names']\n",
        "labels = df['target']\n",
        "feature_names =df['feature_names']\n",
        "features =df['data']\n"
      ],
      "execution_count": null,
      "outputs": []
    },
    {
      "cell_type": "markdown",
      "metadata": {
        "id": "gJqj3H_H0xMd"
      },
      "source": [
        "**Exploring mapped features and labels**"
      ]
    },
    {
      "cell_type": "code",
      "metadata": {
        "id": "VFNPmlxsqfg-"
      },
      "source": [
        "print(label_names)\n",
        "print(labels[0])\n",
        "print(feature_names[0])\n",
        "print(features[0])"
      ],
      "execution_count": null,
      "outputs": []
    },
    {
      "cell_type": "markdown",
      "metadata": {
        "id": "9E3rbcq81BwI"
      },
      "source": [
        "**Spliting dataset into train and test set**"
      ]
    },
    {
      "cell_type": "code",
      "metadata": {
        "id": "r7efQLWWqkbt"
      },
      "source": [
        "\n",
        "train, test, train_label, test_label =  train_test_split(features, labels, test_size=0.20, random_state= 0)"
      ],
      "execution_count": null,
      "outputs": []
    },
    {
      "cell_type": "markdown",
      "metadata": {
        "id": "ntVVYtk31ZYw"
      },
      "source": [
        "**Calling Naive Bayes Classifier and trainin\n",
        "\n",
        "```\n",
        "# This is formatted as code\n",
        "```\n",
        "\n",
        "g the model on train dataset**"
      ]
    },
    {
      "cell_type": "code",
      "metadata": {
        "id": "PotpsBUktBch"
      },
      "source": [
        "\n",
        "model= GaussianNB()\n",
        "model.fit(train, train_label)"
      ],
      "execution_count": null,
      "outputs": []
    },
    {
      "cell_type": "markdown",
      "metadata": {
        "id": "RCXvk4SB1vhF"
      },
      "source": [
        "**Using the trained model making prediction using test dataset**"
      ]
    },
    {
      "cell_type": "code",
      "metadata": {
        "id": "ckpGjNfyubb5"
      },
      "source": [
        "prediction = model.predict(test)\n",
        "prediction"
      ],
      "execution_count": null,
      "outputs": []
    },
    {
      "cell_type": "markdown",
      "metadata": {
        "id": "yXX1IeD32Ti5"
      },
      "source": [
        "**Checking the accuracy score**"
      ]
    },
    {
      "cell_type": "code",
      "metadata": {
        "id": "zIyNGqmQyDLu"
      },
      "source": [
        "\n",
        "accuracy_score(test_label, prediction)\n"
      ],
      "execution_count": null,
      "outputs": []
    },
    {
      "cell_type": "code",
      "metadata": {
        "id": "BELB2mDC0eBp"
      },
      "source": [
        ""
      ],
      "execution_count": null,
      "outputs": []
    }
  ]
}
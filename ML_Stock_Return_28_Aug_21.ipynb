{
  "nbformat": 4,
  "nbformat_minor": 0,
  "metadata": {
    "colab": {
      "name": "ML Stock Return- 28 Aug 21",
      "private_outputs": true,
      "provenance": [],
      "authorship_tag": "ABX9TyOMWRtjkUFpJcRbsA+JhxRu",
      "include_colab_link": true
    },
    "kernelspec": {
      "name": "python3",
      "display_name": "Python 3"
    },
    "language_info": {
      "name": "python"
    }
  },
  "cells": [
    {
      "cell_type": "markdown",
      "metadata": {
        "id": "view-in-github",
        "colab_type": "text"
      },
      "source": [
        "<a href=\"https://colab.research.google.com/github/RajeevBhadola/myrepo/blob/master/ML_Stock_Return_28_Aug_21.ipynb\" target=\"_parent\"><img src=\"https://colab.research.google.com/assets/colab-badge.svg\" alt=\"Open In Colab\"/></a>"
      ]
    },
    {
      "cell_type": "code",
      "metadata": {
        "id": "mDJr89T__LnB"
      },
      "source": [
        "import pandas as pd\n",
        "import numpy as np\n",
        "import matplotlib.pyplot as plt\n",
        "import seaborn as sns\n"
      ],
      "execution_count": null,
      "outputs": []
    },
    {
      "cell_type": "code",
      "metadata": {
        "id": "w1_MpRNLB0JD"
      },
      "source": [
        "!wget https://launchpad.net/~mario-mariomedina/+archive/ubuntu/talib/+files/libta-lib0_0.4.0-oneiric1_amd64.deb -qO libta.deb\n",
        "!wget https://launchpad.net/~mario-mariomedina/+archive/ubuntu/talib/+files/ta-lib0-dev_0.4.0-oneiric1_amd64.deb -qO ta.deb\n",
        "!dpkg -i libta.deb ta.deb\n",
        "!pip install ta-lib"
      ],
      "execution_count": null,
      "outputs": []
    },
    {
      "cell_type": "code",
      "metadata": {
        "id": "KQsILugMCAhz"
      },
      "source": [
        "import talib"
      ],
      "execution_count": null,
      "outputs": []
    },
    {
      "cell_type": "code",
      "metadata": {
        "id": "FaT9DXl1CzhY"
      },
      "source": [
        "ril = pd.read_csv('/content/sample_data/RIL.csv')"
      ],
      "execution_count": null,
      "outputs": []
    },
    {
      "cell_type": "code",
      "metadata": {
        "id": "pNltcZdWDlYD"
      },
      "source": [
        "ril.head(2)"
      ],
      "execution_count": null,
      "outputs": []
    },
    {
      "cell_type": "code",
      "metadata": {
        "id": "KkD2ouYMEENH"
      },
      "source": [
        "import datetime\n",
        "ril.Date = pd.to_datetime(ril.Date, format = '%d-%m-%Y')\n",
        "# ril.Date = pd.to_datetime(ril.Date,format=\"%d-%m-%Y\")\n",
        "ril.set_index('Date', inplace= True)"
      ],
      "execution_count": null,
      "outputs": []
    },
    {
      "cell_type": "code",
      "metadata": {
        "id": "JQsvtuRSEwbX"
      },
      "source": [
        "ril.head(2)"
      ],
      "execution_count": null,
      "outputs": []
    },
    {
      "cell_type": "code",
      "metadata": {
        "id": "RmA2zOfjF41u"
      },
      "source": [
        "#Compute Returns. It is easier to forecast returns than stock prices.\n",
        "ril['ret']= ril['Adj Close'].pct_change()\n",
        "ril= ril.dropna()\n",
        "ril.shape"
      ],
      "execution_count": null,
      "outputs": []
    },
    {
      "cell_type": "code",
      "metadata": {
        "id": "fCB_6JWDGR_p"
      },
      "source": [
        "# We can also use tensorflow library\n",
        "import tensorflow as tf\n",
        "from tensorflow.keras.preprocessing.sequence import TimeseriesGenerator"
      ],
      "execution_count": null,
      "outputs": []
    },
    {
      "cell_type": "code",
      "metadata": {
        "id": "hbS1bgE4IiSr"
      },
      "source": [
        "def split_sequence(series,k):\n",
        "  X,y = [],[]\n",
        "  for i in range(len(series)):\n",
        "    end_id=  i+k\n",
        "    if end_id > len(series)-1:\n",
        "      break\n",
        "    seq_x, seq_y = series[1:end_id], series[end_id]\n",
        "    x.append(seq_x)\n",
        "    y.append(seq_y)\n",
        "  return np.array(x), np.array(y)"
      ],
      "execution_count": null,
      "outputs": []
    },
    {
      "cell_type": "code",
      "metadata": {
        "id": "MO-_DbWJKiVb"
      },
      "source": [
        "x = [1,2,3,4,5,6,7,8,9,10]\n",
        "split_sequence(x,3)"
      ],
      "execution_count": null,
      "outputs": []
    },
    {
      "cell_type": "code",
      "metadata": {
        "id": "nLJqUAahHtRF"
      },
      "source": [
        "generator = TimeseriesGenerator(x, x, 3, batch_size=1)\n",
        "generator[0]"
      ],
      "execution_count": null,
      "outputs": []
    },
    {
      "cell_type": "code",
      "metadata": {
        "id": "ztHCRSdDHztq"
      },
      "source": [
        "generator[1]"
      ],
      "execution_count": null,
      "outputs": []
    },
    {
      "cell_type": "code",
      "metadata": {
        "id": "CIoQBBGOLtnr"
      },
      "source": [
        "# Divide into training and test dataset\n",
        "ril_train =ril['2016-08-19':'2020-12-31']\n",
        "ril_test = ril['2021-01-01':]"
      ],
      "execution_count": null,
      "outputs": []
    },
    {
      "cell_type": "code",
      "metadata": {
        "id": "Gy24oGWuNjv_"
      },
      "source": [
        "ril_train.head(2)"
      ],
      "execution_count": null,
      "outputs": []
    },
    {
      "cell_type": "code",
      "metadata": {
        "id": "EdCuT-BYVz4o"
      },
      "source": [
        "ril_test.head(2)"
      ],
      "execution_count": null,
      "outputs": []
    },
    {
      "cell_type": "code",
      "metadata": {
        "id": "cB1ldyfgV29L"
      },
      "source": [
        "generator_train =TimeseriesGenerator(ril_train['Adj Close'],\n",
        "                                         ril_train['Adj Close'], length=3, batch_size=1)\n",
        "generator_train[0]"
      ],
      "execution_count": null,
      "outputs": []
    },
    {
      "cell_type": "code",
      "metadata": {
        "id": "_gFZWqgQaS9j"
      },
      "source": [
        "generator_test = TimeseriesGenerator(ril_test['Adj Close'], \n",
        "                                      ril_test['Adj Close'], length=3, batch_size=1)"
      ],
      "execution_count": null,
      "outputs": []
    },
    {
      "cell_type": "code",
      "metadata": {
        "id": "F-7aUL8pYuLd"
      },
      "source": [
        "ril_train.head(4)"
      ],
      "execution_count": null,
      "outputs": []
    },
    {
      "cell_type": "code",
      "metadata": {
        "id": "H4EKxeVvZP0d"
      },
      "source": [
        "# Build the first model\n",
        "tf.random.set_seed(13)\n",
        "model_1 = tf.keras.Sequential([\n",
        "tf.keras.layers.Dense(64, activation='relu', input_dim=3),tf.keras.layers.Dense(1)])"
      ],
      "execution_count": null,
      "outputs": []
    },
    {
      "cell_type": "code",
      "metadata": {
        "id": "dM9dbA4ZZ9r2"
      },
      "source": [
        "model_1.summary()"
      ],
      "execution_count": null,
      "outputs": []
    },
    {
      "cell_type": "code",
      "metadata": {
        "id": "MozYVxMVaF8i"
      },
      "source": [
        "model_1.compile(optimizer='adam', loss ='mse', metrics='mae')"
      ],
      "execution_count": null,
      "outputs": []
    },
    {
      "cell_type": "code",
      "metadata": {
        "id": "Iams0ssCbIzD"
      },
      "source": [
        "history=model_1.fit(generator_train, epochs=10, validation_data= generator_test)"
      ],
      "execution_count": null,
      "outputs": []
    },
    {
      "cell_type": "code",
      "metadata": {
        "id": "l9AQuwYzb9VF"
      },
      "source": [
        "history.history"
      ],
      "execution_count": null,
      "outputs": []
    },
    {
      "cell_type": "code",
      "metadata": {
        "id": "3wqlxIjtcM62"
      },
      "source": [
        "results = pd.DataFrame(history.history)\n",
        "results.head(2)"
      ],
      "execution_count": null,
      "outputs": []
    },
    {
      "cell_type": "code",
      "metadata": {
        "id": "THL6kHzecbeR"
      },
      "source": [
        "results[['loss', 'val_loss']].plot();"
      ],
      "execution_count": null,
      "outputs": []
    },
    {
      "cell_type": "code",
      "metadata": {
        "id": "95EgThZTc5LF"
      },
      "source": [
        "ril_pred = model_1.predict(generator_test)\n",
        "ril_pred.shape"
      ],
      "execution_count": null,
      "outputs": []
    },
    {
      "cell_type": "code",
      "metadata": {
        "id": "Rehc8WKIdvnc"
      },
      "source": [
        "ril_pred = tf.squeeze(ril_pred)\n",
        "ril_pred.numpy().shape"
      ],
      "execution_count": null,
      "outputs": []
    },
    {
      "cell_type": "code",
      "metadata": {
        "id": "uZDCZMfvd-_d"
      },
      "source": [
        "ril_test['Adj Close'].shape"
      ],
      "execution_count": null,
      "outputs": []
    },
    {
      "cell_type": "code",
      "metadata": {
        "id": "uIWqOPT1en1N"
      },
      "source": [
        "ril_test['Adj Close'][3:].shape"
      ],
      "execution_count": null,
      "outputs": []
    },
    {
      "cell_type": "code",
      "metadata": {
        "id": "p8lKq7C7eoyU"
      },
      "source": [
        "plt.scatter(ril_pred, ril_test['Adj Close'][3:])\n",
        "plt.xlabel('Predicted Value')\n",
        "plt.ylabel('Actual Value')\n",
        "plt.title('Prediction of RIL Prices using Deep Learning');"
      ],
      "execution_count": null,
      "outputs": []
    },
    {
      "cell_type": "code",
      "metadata": {
        "id": "r8fGAGWNfMON"
      },
      "source": [
        "plt.plot(ril_pred, label = 'Predicted Price')\n",
        "plt.plot(ril_test['Adj Close'][3:].values, label = 'Actual Prices')\n",
        "plt.legend();"
      ],
      "execution_count": null,
      "outputs": []
    },
    {
      "cell_type": "code",
      "metadata": {
        "id": "BU6Jjh4Hf8fw"
      },
      "source": [
        "model_1.evaluate(generator_test)"
      ],
      "execution_count": null,
      "outputs": []
    },
    {
      "cell_type": "code",
      "metadata": {
        "id": "ADLESL5egXLL"
      },
      "source": [
        "tf.random.set_seed(13)\n",
        "model_2 = tf.keras.Sequential([tf.keras.layers.Dense(64, input_dim=3, activation='relu'),\n",
        "                               tf.keras.layers.Dense(64,activation = 'relu'), \n",
        "                               tf.keras.layers.Dense(1)])"
      ],
      "execution_count": null,
      "outputs": []
    },
    {
      "cell_type": "code",
      "metadata": {
        "id": "ol1pBabmhTTs"
      },
      "source": [
        "model_2.summary()"
      ],
      "execution_count": null,
      "outputs": []
    },
    {
      "cell_type": "code",
      "metadata": {
        "id": "dmQ8I1RCiKfF"
      },
      "source": [
        "\n",
        "64*65"
      ],
      "execution_count": null,
      "outputs": []
    },
    {
      "cell_type": "code",
      "metadata": {
        "id": "JEdIlW2Difkb"
      },
      "source": [
        "model_2.compile(optimizer= tf.keras.optimizers.Adam(learning_rate = 0.0005),\n",
        "                loss ='mse', metrics ='mae')"
      ],
      "execution_count": null,
      "outputs": []
    },
    {
      "cell_type": "code",
      "metadata": {
        "id": "SbWQzD5kiVRA"
      },
      "source": [
        "history_2 = model_2.fit(generator_train, epochs=50, validation_data= generator_test,verbose=0)"
      ],
      "execution_count": null,
      "outputs": []
    },
    {
      "cell_type": "code",
      "metadata": {
        "id": "sh8PTibxi5tz"
      },
      "source": [
        "df_model_2 = pd.DataFrame(history_2.history)\n",
        "df_model_2.head(2)"
      ],
      "execution_count": null,
      "outputs": []
    },
    {
      "cell_type": "code",
      "metadata": {
        "id": "aPUCKOVAjoDh"
      },
      "source": [
        "model_2.evaluate(generator_test)"
      ],
      "execution_count": null,
      "outputs": []
    },
    {
      "cell_type": "code",
      "metadata": {
        "id": "GrZvTeTJjrf4"
      },
      "source": [
        "\n",
        "df_model_2[['loss', 'val_loss']].plot()"
      ],
      "execution_count": null,
      "outputs": []
    },
    {
      "cell_type": "code",
      "metadata": {
        "id": "yW42F-x_jv0e"
      },
      "source": [
        "df_model_2[['mae','val_mae']].plot()"
      ],
      "execution_count": null,
      "outputs": []
    },
    {
      "cell_type": "markdown",
      "metadata": {
        "id": "dDnFf9bLkXVM"
      },
      "source": [
        "##Feature Engineering"
      ]
    },
    {
      "cell_type": "code",
      "metadata": {
        "id": "VCAHQeidkZ50"
      },
      "source": [
        "ril.columns"
      ],
      "execution_count": null,
      "outputs": []
    },
    {
      "cell_type": "code",
      "metadata": {
        "id": "l5Hx3dwAkf7z"
      },
      "source": [
        "\n",
        "#What does shift do?\n",
        "ril['ret_shift']= ril['ret'].shift(1)\n",
        "ril[['ret', 'ret_shift']].head()\n",
        "#positive value within shift() returns the values of previous period. "
      ],
      "execution_count": null,
      "outputs": []
    },
    {
      "cell_type": "code",
      "metadata": {
        "id": "gz7qUbgklDuq"
      },
      "source": [
        "#5 day MA, 21 day MA and 20 day RSI\n",
        "ril['MA5']=talib.SMA(ril['Adj Close'],timeperiod=5)/ril['Adj Close'].shift(1)\n",
        "ril['MA21']=talib.SMA(ril['Adj Close'],timeperiod=21)/ril['Adj Close'].shift(1)\n",
        "ril['RSI20']=talib.RSI(ril['Adj Close'],timeperiod=20)/ril['Adj Close'].shift(1)"
      ],
      "execution_count": null,
      "outputs": []
    },
    {
      "cell_type": "code",
      "metadata": {
        "id": "bJjsqohKlZQ6"
      },
      "source": [
        "ril.head(5)"
      ],
      "execution_count": null,
      "outputs": []
    },
    {
      "cell_type": "code",
      "metadata": {
        "id": "pPl0SOFLw7uc"
      },
      "source": [
        "#Returns observed 5 sessions back. \n",
        "ril['return_5']=ril['Adj Close'].pct_change().shift(5)"
      ],
      "execution_count": null,
      "outputs": []
    },
    {
      "cell_type": "code",
      "metadata": {
        "id": "kgx_NfRgxByk"
      },
      "source": [
        "Are these new features correlated with returns?\n",
        "ril[['ret','MA5','MA21','RSI20','return_5']].corr()"
      ],
      "execution_count": null,
      "outputs": []
    },
    {
      "cell_type": "code",
      "metadata": {
        "id": "8S_bkVGCldMS"
      },
      "source": [
        "#new dataframe containing relevant features\n",
        "ril = ril[['Adj Close','Volume', 'ret', 'MA5', 'MA21', 'RSI20', 'return_5']]\n",
        "ril = ril.dropna()\n",
        "ril.shape\n"
      ],
      "execution_count": null,
      "outputs": []
    },
    {
      "cell_type": "code",
      "metadata": {
        "id": "zXGangRJwtAD"
      },
      "source": [
        "feature_names=['Volume', 'MA5', 'MA21', 'RSI20', 'return_5']\n",
        "features=ril[feature_names]\n",
        "target=ril['ret']"
      ],
      "execution_count": null,
      "outputs": []
    },
    {
      "cell_type": "code",
      "metadata": {
        "id": "8kimIamYxe7D"
      },
      "source": [
        "features.head(2)"
      ],
      "execution_count": null,
      "outputs": []
    },
    {
      "cell_type": "code",
      "metadata": {
        "id": "25L5z35axmdK"
      },
      "source": [
        "#Divide into train and test dataset\n",
        "train_size=int(0.75*features.shape[0])\n",
        "X_train=features[:train_size]\n",
        "X_test=features[train_size:]\n",
        "y_train=target[:train_size]\n",
        "y_test=target[train_size:]"
      ],
      "execution_count": null,
      "outputs": []
    },
    {
      "cell_type": "code",
      "metadata": {
        "id": "i6gjp3-ux013"
      },
      "source": [
        "import tensorflow as tf"
      ],
      "execution_count": null,
      "outputs": []
    },
    {
      "cell_type": "code",
      "metadata": {
        "id": "tSP8eqJNx8Pr"
      },
      "source": [
        "model1 = tf.keras.Sequential([\n",
        "    tf.keras.layers.Dense(64,activation='relu'),\n",
        "    tf.keras.layers.Dense(64,activation='relu'),\n",
        "    tf.keras.layers.Dense(1)\n",
        "])"
      ],
      "execution_count": null,
      "outputs": []
    },
    {
      "cell_type": "code",
      "metadata": {
        "id": "OOGHXk_GyDTV"
      },
      "source": [
        "model1.compile(loss=\"mse\",\n",
        "              optimizer='adam',\n",
        "              metrics=['mae'])"
      ],
      "execution_count": null,
      "outputs": []
    },
    {
      "cell_type": "code",
      "metadata": {
        "id": "rqAseYdCyKLG"
      },
      "source": [
        "history = model1.fit(X_train,y_train,epochs=20)"
      ],
      "execution_count": null,
      "outputs": []
    },
    {
      "cell_type": "code",
      "metadata": {
        "id": "zXye0T_7yObR"
      },
      "source": [
        "pd.Series(history.history['mae']).plot()"
      ],
      "execution_count": null,
      "outputs": []
    }
  ]
}
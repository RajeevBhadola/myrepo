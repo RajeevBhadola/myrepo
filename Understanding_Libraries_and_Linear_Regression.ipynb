{
  "nbformat": 4,
  "nbformat_minor": 0,
  "metadata": {
    "colab": {
      "name": "Understanding Libraries and Linear Regression",
      "private_outputs": true,
      "provenance": [],
      "authorship_tag": "ABX9TyPw7kflJ0l28h7WZOzcYtrt",
      "include_colab_link": true
    },
    "kernelspec": {
      "name": "python3",
      "display_name": "Python 3"
    },
    "language_info": {
      "name": "python"
    }
  },
  "cells": [
    {
      "cell_type": "markdown",
      "metadata": {
        "id": "view-in-github",
        "colab_type": "text"
      },
      "source": [
        "<a href=\"https://colab.research.google.com/github/RajeevBhadola/myrepo/blob/master/Understanding_Libraries_and_Linear_Regression.ipynb\" target=\"_parent\"><img src=\"https://colab.research.google.com/assets/colab-badge.svg\" alt=\"Open In Colab\"/></a>"
      ]
    },
    {
      "cell_type": "code",
      "metadata": {
        "id": "iz9Pt1YvwRtX"
      },
      "source": [
        "x_and_y = [(0,1),(1,2),(2,3), (3,5), (4,7),(5,8), (6,7), (7,10), (8,12), (9,13)]\n",
        "import pandas as pd\n",
        "data = pd.DataFrame(x_and_y, columns= ['x', 'y'])\n",
        "data"
      ],
      "execution_count": null,
      "outputs": []
    },
    {
      "cell_type": "code",
      "metadata": {
        "id": "DnutUYkyxI7D"
      },
      "source": [
        "x= data['x']\n",
        "y = data['y']\n",
        "import matplotlib.pyplot as plt\n",
        "plt.scatter(x,y)\n"
      ],
      "execution_count": null,
      "outputs": []
    },
    {
      "cell_type": "code",
      "metadata": {
        "id": "ioTK90Q7xb8p"
      },
      "source": [
        "c= 1\n",
        "m= 1\n",
        "y_predict = m*x+ c\n",
        "plt.scatter(x,y)\n",
        "plt.plot(x, y_predict)"
      ],
      "execution_count": null,
      "outputs": []
    },
    {
      "cell_type": "code",
      "metadata": {
        "id": "YamHc0Vhz6BC"
      },
      "source": [
        "c= 1\n",
        "m= 1.3\n",
        "y_predict = m*x+ c\n",
        "plt.scatter(x,y)\n",
        "plt.plot(x, y_predict)"
      ],
      "execution_count": null,
      "outputs": []
    },
    {
      "cell_type": "code",
      "metadata": {
        "id": "qF4qKoLZ0Ky3"
      },
      "source": [
        "c= 1\n",
        "m= 1.3\n",
        "y_predict = m*x+ c\n",
        "error = y-y_predict\n",
        "import numpy as np\n",
        "print(np.mean(error))\n",
        "plt.scatter(x,y)\n",
        "plt.plot(x, y_predict)"
      ],
      "execution_count": null,
      "outputs": []
    },
    {
      "cell_type": "code",
      "metadata": {
        "id": "t4mgHtOW062p"
      },
      "source": [
        ""
      ],
      "execution_count": null,
      "outputs": []
    }
  ]
}
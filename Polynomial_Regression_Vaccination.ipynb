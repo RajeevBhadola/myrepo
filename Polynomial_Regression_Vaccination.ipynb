{
  "nbformat": 4,
  "nbformat_minor": 0,
  "metadata": {
    "colab": {
      "name": "Polynomial Regression - Vaccination",
      "private_outputs": true,
      "provenance": [],
      "authorship_tag": "ABX9TyNPT6MsQZOftlp6FMcXcaIS",
      "include_colab_link": true
    },
    "kernelspec": {
      "name": "python3",
      "display_name": "Python 3"
    },
    "language_info": {
      "name": "python"
    }
  },
  "cells": [
    {
      "cell_type": "markdown",
      "metadata": {
        "id": "view-in-github",
        "colab_type": "text"
      },
      "source": [
        "<a href=\"https://colab.research.google.com/github/RajeevBhadola/myrepo/blob/master/Polynomial_Regression_Vaccination.ipynb\" target=\"_parent\"><img src=\"https://colab.research.google.com/assets/colab-badge.svg\" alt=\"Open In Colab\"/></a>"
      ]
    },
    {
      "cell_type": "code",
      "metadata": {
        "id": "F6Tcm8-GTm4W"
      },
      "source": [
        "import pandas as pd\n",
        "import numpy as np\n",
        "import  matplotlib.pyplot as plt\n",
        "%matplotlib inline"
      ],
      "execution_count": null,
      "outputs": []
    },
    {
      "cell_type": "code",
      "metadata": {
        "id": "FtC3bkzgTp6m"
      },
      "source": [
        "df = pd.read_csv('/content/sample_data/vaccine.csv')\n",
        "df.tail()"
      ],
      "execution_count": null,
      "outputs": []
    },
    {
      "cell_type": "code",
      "metadata": {
        "id": "FOpkMMa8xk0v"
      },
      "source": [
        "X= df.iloc[:,:-1]\n",
        "y=df.iloc[:,-1]"
      ],
      "execution_count": null,
      "outputs": []
    },
    {
      "cell_type": "code",
      "metadata": {
        "id": "90mtsGy9UaWH"
      },
      "source": [
        "from sklearn.model_selection import train_test_split\n",
        "train_X, test_X, train_y, test_y = train_test_split(X,y, \n",
        "                                                    test_size=0.25, random_state=0)"
      ],
      "execution_count": null,
      "outputs": []
    },
    {
      "cell_type": "code",
      "metadata": {
        "id": "nHVHFb-rHL6O"
      },
      "source": [
        "from sklearn.linear_model import LinearRegression\n",
        "lr =LinearRegression()\n",
        "lr.fit(X, y)\n",
        "y_predict = lr.predict(X)\n",
        "\n"
      ],
      "execution_count": null,
      "outputs": []
    },
    {
      "cell_type": "code",
      "metadata": {
        "id": "A_80QVM_WDP0"
      },
      "source": [
        "def Visualization(a,b,c):\n",
        "  plt.scatter(X,y, color ='red')\n",
        "  plt.plot(X, y_predict,color = 'blue')\n",
        "  plt.title('Truth or Bluff (Linear Regression)')\n",
        "  plt.xlabel('Years')\n",
        "  plt.ylabel('Vaccination %')\n",
        "  plt.ticklabel_format(style='plain')\n",
        "  plt.show()\n",
        "  return\n",
        "Visualization(X,y, y_predict)"
      ],
      "execution_count": null,
      "outputs": []
    },
    {
      "cell_type": "code",
      "metadata": {
        "id": "kbXfs6rdQZ_k"
      },
      "source": [
        "from sklearn.preprocessing import PolynomialFeatures\n",
        "poly_reg = PolynomialFeatures(degree=4)\n",
        "X_poly = poly_reg.fit_transform(X)\n",
        "lr_2 =LinearRegression()\n",
        "lr_2.fit(X_poly, y)\n",
        "\n",
        "y_poly =lr_2.predict(poly_reg.fit_transform(X))"
      ],
      "execution_count": null,
      "outputs": []
    },
    {
      "cell_type": "code",
      "metadata": {
        "id": "JVuGJt4Lfk_v"
      },
      "source": [
        "def Visualization(a,b,c):\n",
        "  plt.scatter(X,y, color ='red')\n",
        "  plt.plot(X, y_poly, color='blue')\n",
        "  plt.title('Truth or Bluff (Linear Regression)')\n",
        "  plt.xlabel('Year')\n",
        "  plt.ylabel('Vacination %')\n",
        "  plt.ticklabel_format(style='plain')\n",
        "  plt.show()\n",
        "  return\n",
        "Visualization(X,y, y_poly)"
      ],
      "execution_count": null,
      "outputs": []
    },
    {
      "cell_type": "code",
      "metadata": {
        "id": "9HtCOYzKgUtz"
      },
      "source": [
        "print(lr_2.predict(poly_reg.fit_transform([[2021]])))"
      ],
      "execution_count": null,
      "outputs": []
    },
    {
      "cell_type": "code",
      "metadata": {
        "id": "vneSNVaoic-4"
      },
      "source": [
        "print(lr.predict([[2021]]))"
      ],
      "execution_count": null,
      "outputs": []
    },
    {
      "cell_type": "code",
      "metadata": {
        "id": "4iL-FkpmsCbD"
      },
      "source": [
        ""
      ],
      "execution_count": null,
      "outputs": []
    }
  ]
}
{
  "nbformat": 4,
  "nbformat_minor": 0,
  "metadata": {
    "colab": {
      "name": "Predicting Used Car Prices",
      "private_outputs": true,
      "provenance": [],
      "authorship_tag": "ABX9TyNgOQbe2lDXrPQRRHzj2GON",
      "include_colab_link": true
    },
    "kernelspec": {
      "name": "python3",
      "display_name": "Python 3"
    }
  },
  "cells": [
    {
      "cell_type": "markdown",
      "metadata": {
        "id": "view-in-github",
        "colab_type": "text"
      },
      "source": [
        "<a href=\"https://colab.research.google.com/github/RajeevBhadola/myrepo/blob/master/Predicting_Used_Car_Prices.ipynb\" target=\"_parent\"><img src=\"https://colab.research.google.com/assets/colab-badge.svg\" alt=\"Open In Colab\"/></a>"
      ]
    },
    {
      "cell_type": "markdown",
      "metadata": {
        "id": "W_jjgM1hEkqX"
      },
      "source": [
        "**Predicting Price of Used Car USing Linear Regression**"
      ]
    },
    {
      "cell_type": "markdown",
      "metadata": {
        "id": "_Jg2Kw9DE5PN"
      },
      "source": [
        "**Step 1** Import Libraries"
      ]
    },
    {
      "cell_type": "code",
      "metadata": {
        "id": "1u-PzaQlwR_f"
      },
      "source": [
        "import pandas as pd\r\n",
        "import numpy as np\r\n",
        "import matplotlib.pyplot as plt\r\n",
        "from sklearn.model_selection import train_test_split\r\n",
        "from sklearn.linear_model import LinearRegression"
      ],
      "execution_count": null,
      "outputs": []
    },
    {
      "cell_type": "markdown",
      "metadata": {
        "id": "3nGxFw9uFDWw"
      },
      "source": [
        "**Step 2** Import dataset"
      ]
    },
    {
      "cell_type": "code",
      "metadata": {
        "id": "KI61OP_mwOkz"
      },
      "source": [
        "url = 'https://raw.githubusercontent.com/himanshujbd/train_test/master/carprices.csv'\r\n",
        "df = pd.read_csv(url)"
      ],
      "execution_count": null,
      "outputs": []
    },
    {
      "cell_type": "markdown",
      "metadata": {
        "id": "EvBxOz6pFQ9n"
      },
      "source": [
        "**Step 3** Analyse and visualize dataset"
      ]
    },
    {
      "cell_type": "code",
      "metadata": {
        "id": "5QUPvev2wcyc"
      },
      "source": [
        "df.head(10)"
      ],
      "execution_count": null,
      "outputs": []
    },
    {
      "cell_type": "code",
      "metadata": {
        "id": "qMxJomaxwerT"
      },
      "source": [
        "plt.scatter(df['Mileage'], df['Sell Price($)'])"
      ],
      "execution_count": null,
      "outputs": []
    },
    {
      "cell_type": "markdown",
      "metadata": {
        "id": "JU-XEt01Fbnx"
      },
      "source": [
        "**Step 4** Earmarking of features and label in the dataset"
      ]
    },
    {
      "cell_type": "code",
      "metadata": {
        "id": "ByKEtyZq5cjN"
      },
      "source": [
        "X = df[['Mileage','Age(yrs)']]\r\n",
        "Y= df['Sell Price($)']\r\n",
        "X.head()"
      ],
      "execution_count": null,
      "outputs": []
    },
    {
      "cell_type": "markdown",
      "metadata": {
        "id": "P6ccJikGFt7f"
      },
      "source": [
        "**Step 5** Spliting the dataset into testing and training dataset"
      ]
    },
    {
      "cell_type": "code",
      "metadata": {
        "id": "Lbi-KrZM6jEx"
      },
      "source": [
        "X_train, X_test, Y_train, Y_test = train_test_split(X, Y, test_size = 0.2, random_state= 0)\r\n",
        "X_train"
      ],
      "execution_count": null,
      "outputs": []
    },
    {
      "cell_type": "markdown",
      "metadata": {
        "id": "a5_HlR8rF-MS"
      },
      "source": [
        "**Step 6** Calling the model and training the model"
      ]
    },
    {
      "cell_type": "code",
      "metadata": {
        "id": "RnuSH4n27Mf5"
      },
      "source": [
        "model = LinearRegression()\r\n",
        "model.fit(X_train, Y_train)"
      ],
      "execution_count": null,
      "outputs": []
    },
    {
      "cell_type": "markdown",
      "metadata": {
        "id": "Q3TaWqS3GNFC"
      },
      "source": [
        "**Step 7** Predicting using test dataset using the trained model"
      ]
    },
    {
      "cell_type": "code",
      "metadata": {
        "id": "EzzHSgVg76l6"
      },
      "source": [
        "model.predict(X_test)\r\n"
      ],
      "execution_count": null,
      "outputs": []
    },
    {
      "cell_type": "markdown",
      "metadata": {
        "id": "3a9egb7uGb7-"
      },
      "source": [
        "**Step 8** Checking the model accuracy"
      ]
    },
    {
      "cell_type": "code",
      "metadata": {
        "id": "NcD8qnC08DIy"
      },
      "source": [
        "model.score(X_test, Y_test)"
      ],
      "execution_count": null,
      "outputs": []
    },
    {
      "cell_type": "markdown",
      "metadata": {
        "id": "7-ABFUIfGiQd"
      },
      "source": [
        "**Step 9** Using the model on unseen dataset"
      ]
    },
    {
      "cell_type": "code",
      "metadata": {
        "id": "yHKTpMSr8f2Z"
      },
      "source": [
        "Car_Price = model.predict([[80000,6]]) # Milage 50,000 and Age 4 years"
      ],
      "execution_count": null,
      "outputs": []
    },
    {
      "cell_type": "code",
      "metadata": {
        "id": "E6l06LvB-Xr7"
      },
      "source": [
        "Car_Price"
      ],
      "execution_count": null,
      "outputs": []
    },
    {
      "cell_type": "code",
      "metadata": {
        "id": "Y7Ep95D2BAKo"
      },
      "source": [
        ""
      ],
      "execution_count": null,
      "outputs": []
    }
  ]
}
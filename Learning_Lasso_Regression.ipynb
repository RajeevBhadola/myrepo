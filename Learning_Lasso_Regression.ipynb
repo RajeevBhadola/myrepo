{
  "nbformat": 4,
  "nbformat_minor": 0,
  "metadata": {
    "colab": {
      "name": "Learning Lasso Regression",
      "provenance": [],
      "authorship_tag": "ABX9TyPVRcEc7fu5K54Dn9KSTRXG",
      "include_colab_link": true
    },
    "kernelspec": {
      "name": "python3",
      "display_name": "Python 3"
    },
    "language_info": {
      "name": "python"
    }
  },
  "cells": [
    {
      "cell_type": "markdown",
      "metadata": {
        "id": "view-in-github",
        "colab_type": "text"
      },
      "source": [
        "<a href=\"https://colab.research.google.com/github/RajeevBhadola/myrepo/blob/master/Learning_Lasso_Regression.ipynb\" target=\"_parent\"><img src=\"https://colab.research.google.com/assets/colab-badge.svg\" alt=\"Open In Colab\"/></a>"
      ]
    },
    {
      "cell_type": "markdown",
      "metadata": {
        "id": "rk-DVYavjxw0"
      },
      "source": [
        "1. Step - Import Libraries"
      ]
    },
    {
      "cell_type": "code",
      "metadata": {
        "id": "BLR2WNh1fE3J"
      },
      "source": [
        "import pandas as pd\n",
        "import numpy as np\n",
        "from sklearn.model_selection import train_test_split\n",
        "from sklearn.metrics import  r2_score\n",
        "from sklearn.metrics import mean_squared_error\n",
        "from math import sqrt\n",
        "from sklearn.linear_model import Lasso"
      ],
      "execution_count": 5,
      "outputs": []
    },
    {
      "cell_type": "markdown",
      "metadata": {
        "id": "kScIzGrnkr_N"
      },
      "source": [
        "**2. Step - Loading & analysing dataset**"
      ]
    },
    {
      "cell_type": "code",
      "metadata": {
        "colab": {
          "base_uri": "https://localhost:8080/"
        },
        "id": "2Ypf1gFljwau",
        "outputId": "dc314479-9eed-489b-9b5d-dfad90c80e71"
      },
      "source": [
        "url= 'https://raw.githubusercontent.com/jbrownlee/Datasets/master/housing.csv'\n",
        "data = pd.read_csv(url, header= None)\n",
        "print(data.describe)"
      ],
      "execution_count": 6,
      "outputs": [
        {
          "output_type": "stream",
          "text": [
            "<bound method NDFrame.describe of           0     1      2   3      4   ...     9     10      11    12    13\n",
            "0    0.00632  18.0   2.31   0  0.538  ...  296.0  15.3  396.90  4.98  24.0\n",
            "1    0.02731   0.0   7.07   0  0.469  ...  242.0  17.8  396.90  9.14  21.6\n",
            "2    0.02729   0.0   7.07   0  0.469  ...  242.0  17.8  392.83  4.03  34.7\n",
            "3    0.03237   0.0   2.18   0  0.458  ...  222.0  18.7  394.63  2.94  33.4\n",
            "4    0.06905   0.0   2.18   0  0.458  ...  222.0  18.7  396.90  5.33  36.2\n",
            "..       ...   ...    ...  ..    ...  ...    ...   ...     ...   ...   ...\n",
            "501  0.06263   0.0  11.93   0  0.573  ...  273.0  21.0  391.99  9.67  22.4\n",
            "502  0.04527   0.0  11.93   0  0.573  ...  273.0  21.0  396.90  9.08  20.6\n",
            "503  0.06076   0.0  11.93   0  0.573  ...  273.0  21.0  396.90  5.64  23.9\n",
            "504  0.10959   0.0  11.93   0  0.573  ...  273.0  21.0  393.45  6.48  22.0\n",
            "505  0.04741   0.0  11.93   0  0.573  ...  273.0  21.0  396.90  7.88  11.9\n",
            "\n",
            "[506 rows x 14 columns]>\n"
          ],
          "name": "stdout"
        }
      ]
    },
    {
      "cell_type": "markdown",
      "metadata": {
        "id": "rCTkglWGmZZ_"
      },
      "source": [
        "**3. Step 3 - Covert dataset into array, split dataset into features and label**"
      ]
    },
    {
      "cell_type": "code",
      "metadata": {
        "id": "Nsuh9mEYkFOM"
      },
      "source": [
        "data_new = data.values\n",
        "X= data_new[:,:-1]\n",
        "y= data_new[:, -1]\n"
      ],
      "execution_count": 7,
      "outputs": []
    },
    {
      "cell_type": "markdown",
      "metadata": {
        "id": "DCsHGdmcm5xw"
      },
      "source": [
        "**4. Step 4 - Split into testing and training data set**"
      ]
    },
    {
      "cell_type": "code",
      "metadata": {
        "colab": {
          "base_uri": "https://localhost:8080/"
        },
        "id": "OiIMY3skkjN3",
        "outputId": "0bb00872-a1eb-4bfd-acb8-09679a7bfb0a"
      },
      "source": [
        "X_train, X_test, y_train, y_test = train_test_split(X, y, test_size= 0.3, random_state= 40)\n",
        "print(X_train.shape, y_train.shape)\n",
        "print(X_test.shape, y_test.shape)"
      ],
      "execution_count": 8,
      "outputs": [
        {
          "output_type": "stream",
          "text": [
            "(354, 13) (354,)\n",
            "(152, 13) (152,)\n"
          ],
          "name": "stdout"
        }
      ]
    },
    {
      "cell_type": "markdown",
      "metadata": {
        "id": "8BtELCogoc_U"
      },
      "source": [
        "**5. Step 5 - Build model and predict using Lasso model**"
      ]
    },
    {
      "cell_type": "code",
      "metadata": {
        "id": "lanoNnIPl2Uu"
      },
      "source": [
        "model = Lasso(alpha =1)\n",
        "model.fit(X_train, y_train)\n",
        "y_test_pred= model.predict(X_test)\n",
        "y_train_pred = model.predict(X_train)"
      ],
      "execution_count": 9,
      "outputs": []
    },
    {
      "cell_type": "markdown",
      "metadata": {
        "id": "7gs2AE3Ipe6S"
      },
      "source": [
        "**6. Step 6 - Evaluate Lasso model**"
      ]
    },
    {
      "cell_type": "code",
      "metadata": {
        "colab": {
          "base_uri": "https://localhost:8080/"
        },
        "id": "fQJI5nyro7_x",
        "outputId": "b199263e-b425-41f4-d112-a9c30b982945"
      },
      "source": [
        "print(np.sqrt(mean_squared_error(y_train, y_train_pred)))\n",
        "print(r2_score(y_train, y_train_pred))\n",
        "print(np.sqrt(mean_squared_error(y_test, y_test_pred)))\n",
        "print(r2_score(y_test, y_test_pred))"
      ],
      "execution_count": 10,
      "outputs": [
        {
          "output_type": "stream",
          "text": [
            "4.887113841773081\n",
            "0.6657249068677626\n",
            "6.379797782769904\n",
            "0.6439373929767929\n"
          ],
          "name": "stdout"
        }
      ]
    },
    {
      "cell_type": "markdown",
      "metadata": {
        "id": "ZNrDBZgB-Ag-"
      },
      "source": [
        "**7. Step 7 - Tuning Lasso Model**"
      ]
    },
    {
      "cell_type": "code",
      "metadata": {
        "id": "bp6Ta9bPq6UR"
      },
      "source": [
        "from numpy import arange\n",
        "from sklearn.model_selection import RepeatedKFold\n",
        "import pandas as pd\n",
        "from sklearn.linear_model import LassoCV"
      ],
      "execution_count": 11,
      "outputs": []
    },
    {
      "cell_type": "code",
      "metadata": {
        "colab": {
          "base_uri": "https://localhost:8080/"
        },
        "id": "Q_GZiu1Z-hYK",
        "outputId": "7e32d536-76d0-48f7-cf9d-83221685535b"
      },
      "source": [
        "cross_validation = RepeatedKFold(n_splits=10, n_repeats=3, random_state=1)\n",
        "lasso_model = LassoCV(alphas=arange(0, 1, 0.02), cv=cross_validation , n_jobs=-1)\n",
        "lasso_model .fit(X, y)\n",
        "print('alpha: %f' % lasso_model .alpha_)\n",
        "y_train_pred_lasso= lasso_model .predict(X_train)\n",
        "y_test_pred_lasso= lasso_model .predict(X_test)"
      ],
      "execution_count": 13,
      "outputs": [
        {
          "output_type": "stream",
          "text": [
            "/usr/local/lib/python3.7/dist-packages/sklearn/linear_model/_coordinate_descent.py:472: UserWarning: Coordinate descent with alpha=0 may lead to unexpected results and is discouraged.\n",
            "  tol, rng, random, positive)\n",
            "/usr/local/lib/python3.7/dist-packages/sklearn/linear_model/_coordinate_descent.py:472: UserWarning: Coordinate descent with alpha=0 may lead to unexpected results and is discouraged.\n",
            "  tol, rng, random, positive)\n",
            "/usr/local/lib/python3.7/dist-packages/sklearn/linear_model/_coordinate_descent.py:472: ConvergenceWarning: Objective did not converge. You might want to increase the number of iterations. Duality gap: 5033.999883655251, tolerance: 3.7981172879120875\n",
            "  tol, rng, random, positive)\n",
            "/usr/local/lib/python3.7/dist-packages/sklearn/linear_model/_coordinate_descent.py:472: ConvergenceWarning: Objective did not converge. You might want to increase the number of iterations. Duality gap: 4938.326038547861, tolerance: 3.7370255692307692\n",
            "  tol, rng, random, positive)\n",
            "/usr/local/lib/python3.7/dist-packages/sklearn/linear_model/_coordinate_descent.py:472: UserWarning: Coordinate descent with alpha=0 may lead to unexpected results and is discouraged.\n",
            "  tol, rng, random, positive)\n",
            "/usr/local/lib/python3.7/dist-packages/sklearn/linear_model/_coordinate_descent.py:472: ConvergenceWarning: Objective did not converge. You might want to increase the number of iterations. Duality gap: 4359.411693485788, tolerance: 3.8221698593406606\n",
            "  tol, rng, random, positive)\n",
            "/usr/local/lib/python3.7/dist-packages/sklearn/linear_model/_coordinate_descent.py:472: UserWarning: Coordinate descent with alpha=0 may lead to unexpected results and is discouraged.\n",
            "  tol, rng, random, positive)\n",
            "/usr/local/lib/python3.7/dist-packages/sklearn/linear_model/_coordinate_descent.py:472: ConvergenceWarning: Objective did not converge. You might want to increase the number of iterations. Duality gap: 5308.605854251968, tolerance: 3.8821705054945044\n",
            "  tol, rng, random, positive)\n",
            "/usr/local/lib/python3.7/dist-packages/sklearn/linear_model/_coordinate_descent.py:472: UserWarning: Coordinate descent with alpha=0 may lead to unexpected results and is discouraged.\n",
            "  tol, rng, random, positive)\n",
            "/usr/local/lib/python3.7/dist-packages/sklearn/linear_model/_coordinate_descent.py:472: ConvergenceWarning: Objective did not converge. You might want to increase the number of iterations. Duality gap: 5245.085871826341, tolerance: 3.8665083516483523\n",
            "  tol, rng, random, positive)\n",
            "/usr/local/lib/python3.7/dist-packages/sklearn/linear_model/_coordinate_descent.py:472: UserWarning: Coordinate descent with alpha=0 may lead to unexpected results and is discouraged.\n",
            "  tol, rng, random, positive)\n",
            "/usr/local/lib/python3.7/dist-packages/sklearn/linear_model/_coordinate_descent.py:472: ConvergenceWarning: Objective did not converge. You might want to increase the number of iterations. Duality gap: 5102.06994110746, tolerance: 3.92876058021978\n",
            "  tol, rng, random, positive)\n",
            "/usr/local/lib/python3.7/dist-packages/sklearn/linear_model/_coordinate_descent.py:472: UserWarning: Coordinate descent with alpha=0 may lead to unexpected results and is discouraged.\n",
            "  tol, rng, random, positive)\n",
            "/usr/local/lib/python3.7/dist-packages/sklearn/linear_model/_coordinate_descent.py:472: UserWarning: Coordinate descent with alpha=0 may lead to unexpected results and is discouraged.\n",
            "  tol, rng, random, positive)\n",
            "/usr/local/lib/python3.7/dist-packages/sklearn/linear_model/_coordinate_descent.py:472: ConvergenceWarning: Objective did not converge. You might want to increase the number of iterations. Duality gap: 5122.302926490072, tolerance: 3.9541719649122813\n",
            "  tol, rng, random, positive)\n",
            "/usr/local/lib/python3.7/dist-packages/sklearn/linear_model/_coordinate_descent.py:472: ConvergenceWarning: Objective did not converge. You might want to increase the number of iterations. Duality gap: 4613.393614627355, tolerance: 3.7803832894736846\n",
            "  tol, rng, random, positive)\n",
            "/usr/local/lib/python3.7/dist-packages/sklearn/linear_model/_coordinate_descent.py:472: UserWarning: Coordinate descent with alpha=0 may lead to unexpected results and is discouraged.\n",
            "  tol, rng, random, positive)\n",
            "/usr/local/lib/python3.7/dist-packages/sklearn/linear_model/_coordinate_descent.py:472: UserWarning: Coordinate descent with alpha=0 may lead to unexpected results and is discouraged.\n",
            "  tol, rng, random, positive)\n",
            "/usr/local/lib/python3.7/dist-packages/sklearn/linear_model/_coordinate_descent.py:472: ConvergenceWarning: Objective did not converge. You might want to increase the number of iterations. Duality gap: 4703.960334103926, tolerance: 3.701088938596491\n",
            "  tol, rng, random, positive)\n",
            "/usr/local/lib/python3.7/dist-packages/sklearn/linear_model/_coordinate_descent.py:472: ConvergenceWarning: Objective did not converge. You might want to increase the number of iterations. Duality gap: 5211.336901122304, tolerance: 3.966417945175437\n",
            "  tol, rng, random, positive)\n",
            "/usr/local/lib/python3.7/dist-packages/sklearn/linear_model/_coordinate_descent.py:472: UserWarning: Coordinate descent with alpha=0 may lead to unexpected results and is discouraged.\n",
            "  tol, rng, random, positive)\n",
            "/usr/local/lib/python3.7/dist-packages/sklearn/linear_model/_coordinate_descent.py:472: ConvergenceWarning: Objective did not converge. You might want to increase the number of iterations. Duality gap: 4533.389265962065, tolerance: 3.742845230769231\n",
            "  tol, rng, random, positive)\n",
            "/usr/local/lib/python3.7/dist-packages/sklearn/linear_model/_coordinate_descent.py:472: UserWarning: Coordinate descent with alpha=0 may lead to unexpected results and is discouraged.\n",
            "  tol, rng, random, positive)\n",
            "/usr/local/lib/python3.7/dist-packages/sklearn/linear_model/_coordinate_descent.py:472: ConvergenceWarning: Objective did not converge. You might want to increase the number of iterations. Duality gap: 5125.721436586875, tolerance: 3.89033465934066\n",
            "  tol, rng, random, positive)\n",
            "/usr/local/lib/python3.7/dist-packages/sklearn/linear_model/_coordinate_descent.py:472: UserWarning: Coordinate descent with alpha=0 may lead to unexpected results and is discouraged.\n",
            "  tol, rng, random, positive)\n",
            "/usr/local/lib/python3.7/dist-packages/sklearn/linear_model/_coordinate_descent.py:472: ConvergenceWarning: Objective did not converge. You might want to increase the number of iterations. Duality gap: 4820.641174975368, tolerance: 3.766251745054944\n",
            "  tol, rng, random, positive)\n",
            "/usr/local/lib/python3.7/dist-packages/sklearn/linear_model/_coordinate_descent.py:472: UserWarning: Coordinate descent with alpha=0 may lead to unexpected results and is discouraged.\n",
            "  tol, rng, random, positive)\n",
            "/usr/local/lib/python3.7/dist-packages/sklearn/linear_model/_coordinate_descent.py:472: ConvergenceWarning: Objective did not converge. You might want to increase the number of iterations. Duality gap: 4944.850986194528, tolerance: 3.818408351648351\n",
            "  tol, rng, random, positive)\n",
            "/usr/local/lib/python3.7/dist-packages/sklearn/linear_model/_coordinate_descent.py:472: UserWarning: Coordinate descent with alpha=0 may lead to unexpected results and is discouraged.\n",
            "  tol, rng, random, positive)\n",
            "/usr/local/lib/python3.7/dist-packages/sklearn/linear_model/_coordinate_descent.py:472: ConvergenceWarning: Objective did not converge. You might want to increase the number of iterations. Duality gap: 5003.353967288229, tolerance: 3.7929101450549454\n",
            "  tol, rng, random, positive)\n",
            "/usr/local/lib/python3.7/dist-packages/sklearn/linear_model/_coordinate_descent.py:472: UserWarning: Coordinate descent with alpha=0 may lead to unexpected results and is discouraged.\n",
            "  tol, rng, random, positive)\n",
            "/usr/local/lib/python3.7/dist-packages/sklearn/linear_model/_coordinate_descent.py:472: ConvergenceWarning: Objective did not converge. You might want to increase the number of iterations. Duality gap: 5109.406543411587, tolerance: 3.9622208219780224\n",
            "  tol, rng, random, positive)\n"
          ],
          "name": "stderr"
        },
        {
          "output_type": "stream",
          "text": [
            "alpha: 0.000000\n"
          ],
          "name": "stdout"
        },
        {
          "output_type": "stream",
          "text": [
            "/usr/local/lib/python3.7/dist-packages/sklearn/linear_model/_coordinate_descent.py:472: UserWarning: Coordinate descent with alpha=0 may lead to unexpected results and is discouraged.\n",
            "  tol, rng, random, positive)\n",
            "/usr/local/lib/python3.7/dist-packages/sklearn/linear_model/_coordinate_descent.py:472: ConvergenceWarning: Objective did not converge. You might want to increase the number of iterations. Duality gap: 4824.118580146896, tolerance: 3.8953458925438604\n",
            "  tol, rng, random, positive)\n",
            "/usr/local/lib/python3.7/dist-packages/sklearn/linear_model/_coordinate_descent.py:472: UserWarning: Coordinate descent with alpha=0 may lead to unexpected results and is discouraged.\n",
            "  tol, rng, random, positive)\n",
            "/usr/local/lib/python3.7/dist-packages/sklearn/linear_model/_coordinate_descent.py:472: ConvergenceWarning: Objective did not converge. You might want to increase the number of iterations. Duality gap: 4877.19996241419, tolerance: 3.621472421052632\n",
            "  tol, rng, random, positive)\n",
            "/usr/local/lib/python3.7/dist-packages/sklearn/linear_model/_coordinate_descent.py:472: UserWarning: Coordinate descent with alpha=0 may lead to unexpected results and is discouraged.\n",
            "  tol, rng, random, positive)\n",
            "/usr/local/lib/python3.7/dist-packages/sklearn/linear_model/_coordinate_descent.py:472: UserWarning: Coordinate descent with alpha=0 may lead to unexpected results and is discouraged.\n",
            "  tol, rng, random, positive)\n",
            "/usr/local/lib/python3.7/dist-packages/sklearn/linear_model/_coordinate_descent.py:472: ConvergenceWarning: Objective did not converge. You might want to increase the number of iterations. Duality gap: 5083.6713430996315, tolerance: 3.988871570175439\n",
            "  tol, rng, random, positive)\n",
            "/usr/local/lib/python3.7/dist-packages/sklearn/linear_model/_coordinate_descent.py:472: ConvergenceWarning: Objective did not converge. You might want to increase the number of iterations. Duality gap: 5246.023402267714, tolerance: 3.9532313662280716\n",
            "  tol, rng, random, positive)\n",
            "/usr/local/lib/python3.7/dist-packages/sklearn/linear_model/_coordinate_descent.py:472: UserWarning: Coordinate descent with alpha=0 may lead to unexpected results and is discouraged.\n",
            "  tol, rng, random, positive)\n",
            "/usr/local/lib/python3.7/dist-packages/sklearn/linear_model/_coordinate_descent.py:472: ConvergenceWarning: Objective did not converge. You might want to increase the number of iterations. Duality gap: 5049.832884705043, tolerance: 3.8058872835164834\n",
            "  tol, rng, random, positive)\n",
            "/usr/local/lib/python3.7/dist-packages/sklearn/linear_model/_coordinate_descent.py:472: UserWarning: Coordinate descent with alpha=0 may lead to unexpected results and is discouraged.\n",
            "  tol, rng, random, positive)\n",
            "/usr/local/lib/python3.7/dist-packages/sklearn/linear_model/_coordinate_descent.py:472: ConvergenceWarning: Objective did not converge. You might want to increase the number of iterations. Duality gap: 5199.897867372536, tolerance: 4.005465749450549\n",
            "  tol, rng, random, positive)\n",
            "/usr/local/lib/python3.7/dist-packages/sklearn/linear_model/_coordinate_descent.py:472: UserWarning: Coordinate descent with alpha=0 may lead to unexpected results and is discouraged.\n",
            "  tol, rng, random, positive)\n",
            "/usr/local/lib/python3.7/dist-packages/sklearn/linear_model/_coordinate_descent.py:472: UserWarning: Coordinate descent with alpha=0 may lead to unexpected results and is discouraged.\n",
            "  tol, rng, random, positive)\n",
            "/usr/local/lib/python3.7/dist-packages/sklearn/linear_model/_coordinate_descent.py:472: ConvergenceWarning: Objective did not converge. You might want to increase the number of iterations. Duality gap: 4942.764618866182, tolerance: 3.8348627912087907\n",
            "  tol, rng, random, positive)\n",
            "/usr/local/lib/python3.7/dist-packages/sklearn/linear_model/_coordinate_descent.py:472: ConvergenceWarning: Objective did not converge. You might want to increase the number of iterations. Duality gap: 5042.312198197807, tolerance: 3.7652059648351637\n",
            "  tol, rng, random, positive)\n",
            "/usr/local/lib/python3.7/dist-packages/sklearn/linear_model/_coordinate_descent.py:472: UserWarning: Coordinate descent with alpha=0 may lead to unexpected results and is discouraged.\n",
            "  tol, rng, random, positive)\n",
            "/usr/local/lib/python3.7/dist-packages/sklearn/linear_model/_coordinate_descent.py:472: UserWarning: Coordinate descent with alpha=0 may lead to unexpected results and is discouraged.\n",
            "  tol, rng, random, positive)\n",
            "/usr/local/lib/python3.7/dist-packages/sklearn/linear_model/_coordinate_descent.py:472: ConvergenceWarning: Objective did not converge. You might want to increase the number of iterations. Duality gap: 4758.911576524493, tolerance: 3.783493437362637\n",
            "  tol, rng, random, positive)\n",
            "/usr/local/lib/python3.7/dist-packages/sklearn/linear_model/_coordinate_descent.py:472: ConvergenceWarning: Objective did not converge. You might want to increase the number of iterations. Duality gap: 4653.82626069359, tolerance: 3.587134936263736\n",
            "  tol, rng, random, positive)\n",
            "/usr/local/lib/python3.7/dist-packages/sklearn/linear_model/_coordinate_descent.py:472: UserWarning: Coordinate descent with alpha=0 may lead to unexpected results and is discouraged.\n",
            "  tol, rng, random, positive)\n",
            "/usr/local/lib/python3.7/dist-packages/sklearn/linear_model/_coordinate_descent.py:472: ConvergenceWarning: Objective did not converge. You might want to increase the number of iterations. Duality gap: 4748.899934575289, tolerance: 3.9281246228070175\n",
            "  tol, rng, random, positive)\n",
            "/usr/local/lib/python3.7/dist-packages/sklearn/linear_model/_coordinate_descent.py:472: UserWarning: Coordinate descent with alpha=0 may lead to unexpected results and is discouraged.\n",
            "  tol, rng, random, positive)\n",
            "/usr/local/lib/python3.7/dist-packages/sklearn/linear_model/_coordinate_descent.py:472: ConvergenceWarning: Objective did not converge. You might want to increase the number of iterations. Duality gap: 4955.416755393635, tolerance: 3.8868426644736846\n",
            "  tol, rng, random, positive)\n",
            "/usr/local/lib/python3.7/dist-packages/sklearn/linear_model/_coordinate_descent.py:472: UserWarning: Coordinate descent with alpha=0 may lead to unexpected results and is discouraged.\n",
            "  tol, rng, random, positive)\n",
            "/usr/local/lib/python3.7/dist-packages/sklearn/linear_model/_coordinate_descent.py:472: UserWarning: Coordinate descent with alpha=0 may lead to unexpected results and is discouraged.\n",
            "  tol, rng, random, positive)\n",
            "/usr/local/lib/python3.7/dist-packages/sklearn/linear_model/_coordinate_descent.py:472: ConvergenceWarning: Objective did not converge. You might want to increase the number of iterations. Duality gap: 5152.6502864263675, tolerance: 3.9961889451754375\n",
            "  tol, rng, random, positive)\n",
            "/usr/local/lib/python3.7/dist-packages/sklearn/linear_model/_coordinate_descent.py:472: ConvergenceWarning: Objective did not converge. You might want to increase the number of iterations. Duality gap: 5167.833209657412, tolerance: 3.84503599122807\n",
            "  tol, rng, random, positive)\n",
            "/usr/local/lib/python3.7/dist-packages/sklearn/linear_model/_coordinate_descent.py:1218: UserWarning: With alpha=0, this algorithm does not converge well. You are advised to use the LinearRegression estimator\n",
            "  model.fit(X, y)\n",
            "/usr/local/lib/python3.7/dist-packages/sklearn/linear_model/_coordinate_descent.py:476: UserWarning: Coordinate descent with no regularization may lead to unexpected results and is discouraged.\n",
            "  positive)\n",
            "/usr/local/lib/python3.7/dist-packages/sklearn/linear_model/_coordinate_descent.py:476: ConvergenceWarning: Objective did not converge. You might want to increase the number of iterations. Duality gap: 5539.3922889775295, tolerance: 4.2716295415019765\n",
            "  positive)\n"
          ],
          "name": "stderr"
        }
      ]
    },
    {
      "cell_type": "code",
      "metadata": {
        "colab": {
          "base_uri": "https://localhost:8080/"
        },
        "id": "u0DNmOJl-s45",
        "outputId": "cb8a6955-25f9-4190-f757-0cb6922781f0"
      },
      "source": [
        "print(np.sqrt(mean_squared_error(y_train,y_train_pred_lasso)))\n",
        "print(r2_score(y_train, y_train_pred_lasso))\n",
        "print(np.sqrt(mean_squared_error(y_test,y_test_pred_lasso)))\n",
        "print(r2_score(y_test, y_test_pred_lasso))"
      ],
      "execution_count": 14,
      "outputs": [
        {
          "output_type": "stream",
          "text": [
            "4.33760846805975\n",
            "0.7366703249573083\n",
            "5.391470274340004\n",
            "0.7457113531104524\n"
          ],
          "name": "stdout"
        }
      ]
    },
    {
      "cell_type": "code",
      "metadata": {
        "id": "YBT9wRddAENV"
      },
      "source": [
        ""
      ],
      "execution_count": null,
      "outputs": []
    }
  ]
}
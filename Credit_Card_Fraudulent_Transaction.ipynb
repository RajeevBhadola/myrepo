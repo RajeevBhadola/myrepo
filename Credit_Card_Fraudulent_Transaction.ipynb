{
  "nbformat": 4,
  "nbformat_minor": 0,
  "metadata": {
    "colab": {
      "name": "Credit Card Fraudulent Transaction",
      "private_outputs": true,
      "provenance": [],
      "authorship_tag": "ABX9TyMGSLpz2ECusLvDT1oOaMIw",
      "include_colab_link": true
    },
    "kernelspec": {
      "name": "python3",
      "display_name": "Python 3"
    },
    "language_info": {
      "name": "python"
    }
  },
  "cells": [
    {
      "cell_type": "markdown",
      "metadata": {
        "id": "view-in-github",
        "colab_type": "text"
      },
      "source": [
        "<a href=\"https://colab.research.google.com/github/RajeevBhadola/myrepo/blob/master/Credit_Card_Fraudulent_Transaction.ipynb\" target=\"_parent\"><img src=\"https://colab.research.google.com/assets/colab-badge.svg\" alt=\"Open In Colab\"/></a>"
      ]
    },
    {
      "cell_type": "code",
      "metadata": {
        "id": "JG-leg_n4g2L"
      },
      "source": [
        "import pandas as pd\n",
        "import numpy as np\n",
        "import matplotlib.pyplot as plt\n",
        "%matplotlib inline"
      ],
      "execution_count": null,
      "outputs": []
    },
    {
      "cell_type": "code",
      "metadata": {
        "id": "eev3NGUz8Kzy"
      },
      "source": [
        "url = 'https://raw.githubusercontent.com/nsethi31/Kaggle-Data-Credit-Card-Fraud-Detection/master/creditcard.csv'\n",
        "df = pd.read_csv(url)"
      ],
      "execution_count": null,
      "outputs": []
    },
    {
      "cell_type": "code",
      "metadata": {
        "id": "cJUqWZ_E91cS"
      },
      "source": [
        "df.head(2)"
      ],
      "execution_count": null,
      "outputs": []
    },
    {
      "cell_type": "code",
      "metadata": {
        "id": "3vqzGfD3AB4r"
      },
      "source": [
        "df.shape"
      ],
      "execution_count": null,
      "outputs": []
    },
    {
      "cell_type": "code",
      "metadata": {
        "id": "dsmxOXknAI2Y"
      },
      "source": [
        "df.info()"
      ],
      "execution_count": null,
      "outputs": []
    },
    {
      "cell_type": "code",
      "metadata": {
        "id": "zZEiw3hIAPnt"
      },
      "source": [
        "df.Class.value_counts()# data inbalance Nonfraud= 284315, fraud= 492"
      ],
      "execution_count": null,
      "outputs": []
    },
    {
      "cell_type": "code",
      "metadata": {
        "id": "UqMcao0RAh3V"
      },
      "source": [
        "df['Class']= df['Class'].astype('category')"
      ],
      "execution_count": null,
      "outputs": []
    },
    {
      "cell_type": "code",
      "metadata": {
        "id": "90R6j_RQA90S"
      },
      "source": [
        "df.info()"
      ],
      "execution_count": null,
      "outputs": []
    },
    {
      "cell_type": "code",
      "metadata": {
        "id": "TtUSoZdlBAhf"
      },
      "source": [
        "features_columns = df.columns[:-1]\n",
        "X = df[features_columns]\n",
        "y= df['Class']\n",
        "X.tail(5)"
      ],
      "execution_count": null,
      "outputs": []
    },
    {
      "cell_type": "code",
      "metadata": {
        "id": "QK_Kwj9PqBdc"
      },
      "source": [
        "a, b = 0, 1\n",
        "c, d = X.Amount.min(), X.Amount.max()\n",
        "X['Amount'] = (X.Amount - c) / (d - c) * (b - a) + a\n",
        "X.head(5)"
      ],
      "execution_count": null,
      "outputs": []
    },
    {
      "cell_type": "code",
      "metadata": {
        "id": "F2ina1Q6Blbf"
      },
      "source": [
        "from sklearn.model_selection import train_test_split\n",
        "train_X, test_X, train_y, test_y= train_test_split(X, y, train_size= 0.80, random_state= 14)"
      ],
      "execution_count": null,
      "outputs": []
    },
    {
      "cell_type": "code",
      "metadata": {
        "id": "SXkJiG5XCfIF"
      },
      "source": [
        "# balancing the train data\n",
        "from imblearn.over_sampling import SMOTE\n",
        "smote = SMOTE(random_state = 14)\n",
        "resample_X, resample_y = smote.fit_resample(train_X, train_y)"
      ],
      "execution_count": null,
      "outputs": []
    },
    {
      "cell_type": "code",
      "metadata": {
        "id": "AQhhAIEJitHI"
      },
      "source": [
        "from sklearn.linear_model import LogisticRegression\n",
        "lr = LogisticRegression(random_state = 14, max_iter= 200)\n",
        "lr.fit(resample_X, resample_y)"
      ],
      "execution_count": null,
      "outputs": []
    },
    {
      "cell_type": "code",
      "metadata": {
        "id": "SoBExaD1ivO7"
      },
      "source": [
        "y_predict = lr.predict(test_X)"
      ],
      "execution_count": null,
      "outputs": []
    },
    {
      "cell_type": "code",
      "metadata": {
        "id": "JT3gficiDM8o"
      },
      "source": [
        "from sklearn.metrics import confusion_matrix, accuracy_score, precision_score, recall_score, roc_auc_score\n",
        "print(round(accuracy_score(test_y, y_predict),2))\n",
        "print(round(recall_score(test_y, y_predict),2))\n",
        "print(round(precision_score(test_y, y_predict),2))"
      ],
      "execution_count": null,
      "outputs": []
    },
    {
      "cell_type": "code",
      "metadata": {
        "id": "DfHDVgF4ilSX"
      },
      "source": [
        "confusion_matrix(test_y, y_predict)\n",
        "tn,fn, fp, tp = confusion_matrix(test_y, y_predict).ravel()\n",
        "print('true_negative : ', tn)\n",
        "print('false_negative : ', fn)\n",
        "print('false_positive : ', fp)\n",
        "print('True_positive : ', tp)"
      ],
      "execution_count": null,
      "outputs": []
    },
    {
      "cell_type": "code",
      "metadata": {
        "id": "B2thK1K3jrJ3"
      },
      "source": [
        "print('Area under ROC Curve : ', roc_auc_score(test_y, lr.predict_proba(test_X)[:,1]))"
      ],
      "execution_count": null,
      "outputs": []
    },
    {
      "cell_type": "code",
      "metadata": {
        "id": "5xXj-SsJkxpw"
      },
      "source": [
        "from sklearn.metrics import plot_roc_curve\n",
        "plot_roc_curve(lr, test_X, test_y);\n",
        "print('Area under ROC Curve : ', roc_auc_score(test_y, lr.predict_proba(test_X)[:,1]))"
      ],
      "execution_count": null,
      "outputs": []
    },
    {
      "cell_type": "code",
      "metadata": {
        "id": "KFuZt6jQk-lA"
      },
      "source": [
        "Predicted_Class = lr.predict(X)\n",
        "df_1 = pd.DataFrame(Predicted_Class,columns=['Predicted_Class'])\n",
        "result =pd.concat([X, y,df_1], axis=1)\n",
        "result.head()"
      ],
      "execution_count": null,
      "outputs": []
    },
    {
      "cell_type": "code",
      "metadata": {
        "id": "5C0vG2Jm2AKv"
      },
      "source": [
        "result.to_csv('Final_Predictions.csv')"
      ],
      "execution_count": null,
      "outputs": []
    }
  ]
}
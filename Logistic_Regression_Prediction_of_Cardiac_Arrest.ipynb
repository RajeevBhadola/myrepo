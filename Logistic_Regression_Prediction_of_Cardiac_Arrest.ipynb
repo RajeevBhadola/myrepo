{
  "nbformat": 4,
  "nbformat_minor": 0,
  "metadata": {
    "colab": {
      "name": "Logistic Regression- Prediction of Cardiac Arrest",
      "private_outputs": true,
      "provenance": [],
      "collapsed_sections": [],
      "authorship_tag": "ABX9TyMwGuIuGb2UY+fWiouCDSEG",
      "include_colab_link": true
    },
    "kernelspec": {
      "name": "python3",
      "display_name": "Python 3"
    },
    "language_info": {
      "name": "python"
    }
  },
  "cells": [
    {
      "cell_type": "markdown",
      "metadata": {
        "id": "view-in-github",
        "colab_type": "text"
      },
      "source": [
        "<a href=\"https://colab.research.google.com/github/RajeevBhadola/myrepo/blob/master/Logistic_Regression_Prediction_of_Cardiac_Arrest.ipynb\" target=\"_parent\"><img src=\"https://colab.research.google.com/assets/colab-badge.svg\" alt=\"Open In Colab\"/></a>"
      ]
    },
    {
      "cell_type": "markdown",
      "metadata": {
        "id": "6JXWybpHW7oc"
      },
      "source": [
        "**LOGISTIC REGRESSION- PREDICTING HEART ATTACK**\n",
        "\n",
        "---\n",
        "\n"
      ]
    },
    {
      "cell_type": "markdown",
      "metadata": {
        "id": "_ZK_rbisXoW0"
      },
      "source": [
        "**1. Step 1 - Import Libraries**"
      ]
    },
    {
      "cell_type": "code",
      "metadata": {
        "id": "nk0UI1QpUrwY"
      },
      "source": [
        "import pandas as pd\n",
        "import numpy as np\n",
        "import math\n",
        "from sklearn.metrics import confusion_matrix\n",
        "from sklearn.metrics import accuracy_score\n",
        "from sklearn.model_selection import train_test_split\n",
        "from sklearn.linear_model import LogisticRegression"
      ],
      "execution_count": null,
      "outputs": []
    },
    {
      "cell_type": "markdown",
      "metadata": {
        "id": "uOqMPXgEYPy2"
      },
      "source": [
        "**2. Step 2 -Importing Dataset**"
      ]
    },
    {
      "cell_type": "code",
      "metadata": {
        "id": "Wo2y_zq3UxDA"
      },
      "source": [
        "url ='https://raw.githubusercontent.com/Ravjot03/Heart-Disease-Prediction/master/framingham.csv'\n",
        "data= pd.read_csv(url)\n",
        "data.head()"
      ],
      "execution_count": null,
      "outputs": []
    },
    {
      "cell_type": "markdown",
      "metadata": {
        "id": "TFJ7IftjYyrV"
      },
      "source": [
        "**3. Step 3 -Data Analysis**"
      ]
    },
    {
      "cell_type": "code",
      "metadata": {
        "id": "_wUgRaqCU7H9"
      },
      "source": [
        "data.isnull().sum()"
      ],
      "execution_count": null,
      "outputs": []
    },
    {
      "cell_type": "markdown",
      "metadata": {
        "id": "iaOxPfrdY-D3"
      },
      "source": [
        "**4. Step 4 -Data Engineering**"
      ]
    },
    {
      "cell_type": "code",
      "metadata": {
        "id": "0mukfCPHVHPa"
      },
      "source": [
        "series = pd.isnull(data['cigsPerDay'])\n",
        "data[series]\n",
        "df = data.drop(['currentSmoker','education'], axis =1)\n",
        "cigs = data['cigsPerDay']\n",
        "cig= cigs.mean()\n",
        "integer_value = math.floor(cig)\n",
        "cigs.fillna(integer_value, inplace = True)\n",
        "df.dropna(axis=0, inplace= True)\n",
        "df.head()"
      ],
      "execution_count": null,
      "outputs": []
    },
    {
      "cell_type": "code",
      "metadata": {
        "id": "fp_rtEKvcoxw"
      },
      "source": [
        "# Heart_Attack = df[df.TenYearCHD==1]\n",
        "# No_Heart_Attack = df[df.TenYearCHD==0]\n",
        "Final = df.drop(['diaBP','BMI', 'heartRate'], axis=1)\n",
        "Final.head()"
      ],
      "execution_count": null,
      "outputs": []
    },
    {
      "cell_type": "markdown",
      "metadata": {
        "id": "SSuPHjnsajTN"
      },
      "source": [
        "**5. Step 5- Spliting the Dataset into testing and training dataset**"
      ]
    },
    {
      "cell_type": "code",
      "metadata": {
        "id": "74MZc2LJcHn1"
      },
      "source": [
        "X= Final[['male','age', 'cigsPerDay', 'BPMeds', 'prevalentStroke', 'prevalentHyp', 'diabetes', 'totChol','sysBP', 'glucose']]\n",
        "y =Final[['TenYearCHD']]\n",
        "X_train, X_test, y_train, y_test = train_test_split(X,y, test_size=0.30, random_state = 42)\n",
        "X_test.shape"
      ],
      "execution_count": null,
      "outputs": []
    },
    {
      "cell_type": "markdown",
      "metadata": {
        "id": "qspnsZ8Sa2NZ"
      },
      "source": [
        "**6. Step 6 - Selection and implementation of Prediction Model**"
      ]
    },
    {
      "cell_type": "code",
      "metadata": {
        "id": "Mibv7b4KR9pQ"
      },
      "source": [
        "model =LogisticRegression()\n",
        "model.fit(X_train, y_train)\n",
        "y_predict = model.predict(X_test)"
      ],
      "execution_count": null,
      "outputs": []
    },
    {
      "cell_type": "markdown",
      "metadata": {
        "id": "Sx_x_KmsbN5Q"
      },
      "source": [
        "**7. Step 7 - Evaluation of Selected Model**"
      ]
    },
    {
      "cell_type": "code",
      "metadata": {
        "id": "SdaDO0t1TWPP"
      },
      "source": [
        "print(accuracy_score(y_test, y_predict))\n",
        "print(confusion_matrix(y_test, y_predict))"
      ],
      "execution_count": null,
      "outputs": []
    },
    {
      "cell_type": "code",
      "metadata": {
        "id": "f7CgFmIqUZnN"
      },
      "source": [
        "matrix =confusion_matrix(y_test, y_predict)\n",
        "matrix"
      ],
      "execution_count": null,
      "outputs": []
    },
    {
      "cell_type": "markdown",
      "metadata": {
        "id": "qFO4naIxW5Ye"
      },
      "source": [
        ""
      ]
    },
    {
      "cell_type": "code",
      "metadata": {
        "id": "zaLt0vegU8Oh"
      },
      "source": [
        ""
      ],
      "execution_count": null,
      "outputs": []
    }
  ]
}
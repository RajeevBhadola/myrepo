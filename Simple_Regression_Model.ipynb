{
  "nbformat": 4,
  "nbformat_minor": 0,
  "metadata": {
    "colab": {
      "name": "Simple Regression Model",
      "private_outputs": true,
      "provenance": [],
      "authorship_tag": "ABX9TyPs/gf5+0nhEMIZxNMrRaYw",
      "include_colab_link": true
    },
    "kernelspec": {
      "name": "python3",
      "display_name": "Python 3"
    }
  },
  "cells": [
    {
      "cell_type": "markdown",
      "metadata": {
        "id": "view-in-github",
        "colab_type": "text"
      },
      "source": [
        "<a href=\"https://colab.research.google.com/github/RajeevBhadola/myrepo/blob/master/Simple_Regression_Model.ipynb\" target=\"_parent\"><img src=\"https://colab.research.google.com/assets/colab-badge.svg\" alt=\"Open In Colab\"/></a>"
      ]
    },
    {
      "cell_type": "markdown",
      "metadata": {
        "id": "Bbm5xrFtC-1P"
      },
      "source": [
        "**Simple Regression Exercise**"
      ]
    },
    {
      "cell_type": "markdown",
      "metadata": {
        "id": "zVm9LGcPDGl4"
      },
      "source": [
        "**Step 1** Import libraries\r\n",
        "\r\n"
      ]
    },
    {
      "cell_type": "code",
      "metadata": {
        "id": "zWQHu8De6ZME"
      },
      "source": [
        "import numpy as np\r\n",
        "import pandas as pd\r\n",
        "import matplotlib.pyplot as plt\r\n",
        "import seaborn as sns"
      ],
      "execution_count": null,
      "outputs": []
    },
    {
      "cell_type": "markdown",
      "metadata": {
        "id": "lP3EEwfADgzJ"
      },
      "source": [
        "**Step 2** Import Dataset"
      ]
    },
    {
      "cell_type": "code",
      "metadata": {
        "id": "KSk5rP6J6o-6"
      },
      "source": [
        "url= ('https://s3.us-west-2.amazonaws.com/public.gamelab.fun/dataset/salary_data.csv')\r\n",
        "df= pd.read_csv(url)\r\n",
        "df.head()"
      ],
      "execution_count": null,
      "outputs": []
    },
    {
      "cell_type": "markdown",
      "metadata": {
        "id": "XVWPi6-hD-XQ"
      },
      "source": [
        "**Step 3** Divide into features and label"
      ]
    },
    {
      "cell_type": "code",
      "metadata": {
        "id": "xNlp7kap69c7"
      },
      "source": [
        "X = df.iloc[:, :-1]\r\n",
        "y = df.iloc[:, 1:]"
      ],
      "execution_count": null,
      "outputs": []
    },
    {
      "cell_type": "markdown",
      "metadata": {
        "id": "Q1yxa2o9Ep-Z"
      },
      "source": [
        "**Step 4** Split dataset into testing and training set"
      ]
    },
    {
      "cell_type": "code",
      "metadata": {
        "id": "IB9Xvt-R8BoB"
      },
      "source": [
        "from sklearn.model_selection import train_test_split\r\n",
        "X_train, X_test, y_train, y_test = train_test_split(X, y, test_size = 0.2, random_state=0)"
      ],
      "execution_count": null,
      "outputs": []
    },
    {
      "cell_type": "markdown",
      "metadata": {
        "id": "rJqC7GNmFDvd"
      },
      "source": [
        "**Step 5** Import linear regression model, train the model and predict using trained model"
      ]
    },
    {
      "cell_type": "code",
      "metadata": {
        "id": "6g6aIb2F8C5I"
      },
      "source": [
        "from sklearn.linear_model import LinearRegression\r\n",
        "model = LinearRegression()\r\n",
        "model.fit(X_train, y_train)\r\n",
        "y_pred = model.predict(X_test)"
      ],
      "execution_count": null,
      "outputs": []
    },
    {
      "cell_type": "markdown",
      "metadata": {
        "id": "nmSA1pn2F2AF"
      },
      "source": [
        "**Step 6** Visualization of training and testing dataset agaist the trained model"
      ]
    },
    {
      "cell_type": "code",
      "metadata": {
        "id": "yUY6YLLx_xWd"
      },
      "source": [
        "viz_train = plt\r\n",
        "viz_train.scatter(X_train, y_train, color='red')\r\n",
        "viz_train.plot(X_train, model.predict(X_train), color='blue')\r\n",
        "viz_train.title('Salary VS Experience (Training set)')\r\n",
        "viz_train.xlabel('Year of Experience')\r\n",
        "viz_train.ylabel('Salary')\r\n",
        "viz_train.show()\r\n",
        "\r\n",
        "viz_test = plt\r\n",
        "viz_test.scatter(X_test, y_test, color='red')\r\n",
        "viz_test.plot(X_train, model.predict(X_train), color='blue')\r\n",
        "viz_test.title('Salary VS Experience (Test set)')\r\n",
        "viz_test.xlabel('Year of Experience')\r\n",
        "viz_test.ylabel('Salary')\r\n",
        "viz_test.show()"
      ],
      "execution_count": null,
      "outputs": []
    },
    {
      "cell_type": "markdown",
      "metadata": {
        "id": "3p0-Fby0GS3Q"
      },
      "source": [
        "**Step 7** Predicting a Salary(y_pred) for a given Exprience(X_test) using trained model"
      ]
    },
    {
      "cell_type": "code",
      "metadata": {
        "id": "nh_1rYrW9UOJ"
      },
      "source": [
        "y_pred = model.predict([[2]])"
      ],
      "execution_count": null,
      "outputs": []
    },
    {
      "cell_type": "code",
      "metadata": {
        "id": "fu-m_H_1-IMb"
      },
      "source": [
        "y_pred"
      ],
      "execution_count": null,
      "outputs": []
    },
    {
      "cell_type": "code",
      "metadata": {
        "id": "a0_wlgxr-rjn"
      },
      "source": [
        ""
      ],
      "execution_count": null,
      "outputs": []
    }
  ]
}
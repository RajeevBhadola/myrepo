{
  "nbformat": 4,
  "nbformat_minor": 0,
  "metadata": {
    "colab": {
      "name": "Stock Prediction Using Prophet  ",
      "private_outputs": true,
      "provenance": [],
      "authorship_tag": "ABX9TyM+xgaQJxievGyVY3mdmmGM",
      "include_colab_link": true
    },
    "kernelspec": {
      "name": "python3",
      "display_name": "Python 3"
    },
    "language_info": {
      "name": "python"
    }
  },
  "cells": [
    {
      "cell_type": "markdown",
      "metadata": {
        "id": "view-in-github",
        "colab_type": "text"
      },
      "source": [
        "<a href=\"https://colab.research.google.com/github/RajeevBhadola/myrepo/blob/master/Stock_Prediction_Using_Prophet.ipynb\" target=\"_parent\"><img src=\"https://colab.research.google.com/assets/colab-badge.svg\" alt=\"Open In Colab\"/></a>"
      ]
    },
    {
      "cell_type": "markdown",
      "metadata": {
        "id": "SKqaaeTo1-Q-"
      },
      "source": [
        "# Setting Stage\n",
        "In this article, we would dicuss predicting  stock price of a share using \n",
        "Facebook Prophet which is an opensource library. Prophet uses Timeseries \n",
        "dataframe to make future prediction. I shall use google colab to demostrate this. To set the stage we need to install yahoofinace(yfinance) which would be source for pulling historic stock timeseries data, Prophet(prophet) library which would be used for forecasting and pandas which would modify the dataframe to suit the reqiuirement of prophet. These three libaries yfinance, prophet and pandas are called for using import function. "
      ]
    },
    {
      "cell_type": "code",
      "metadata": {
        "id": "Bk4oMUvp6Gje"
      },
      "source": [
        "!pip install yfinance\n",
        "!pip install prophet"
      ],
      "execution_count": null,
      "outputs": []
    },
    {
      "cell_type": "code",
      "metadata": {
        "id": "3B5_baGgZPQu"
      },
      "source": [
        "import pandas as pd\n",
        "import yfinance as yf\n",
        "from prophet import Prophet"
      ],
      "execution_count": null,
      "outputs": []
    },
    {
      "cell_type": "markdown",
      "metadata": {
        "id": "AbmtbfWl8Slw"
      },
      "source": [
        "# Preparing Dataset\n",
        "Now using yahoo finance(yfinance) download historical data pertaining to a stock. The stocksymbol for the stock can be obtained from yahoo finance website. In the present case I have created RIL dataframe which contains historical market data of Reliance India Limited downloaded from yf. The stock symbol in the instant case is RELIANCE.NS.There is a need to check the dataframe using head/tail functions. In the present case we can see that the RIL dataframe has 'Date', 'Open', 'High', 'Low','Close', 'Adj Close' and 'Volume' column. "
      ]
    },
    {
      "cell_type": "code",
      "metadata": {
        "id": "JsoPtxpDZ_FZ"
      },
      "source": [
        "RIL = yf.download('RELIANCE.NS')\n",
        "RIL=RIL.sort_values('Date').reset_index()\n",
        "RIL.tail(3)"
      ],
      "execution_count": null,
      "outputs": []
    },
    {
      "cell_type": "markdown",
      "metadata": {
        "id": "tYyRwD1h-Dq5"
      },
      "source": [
        "# Dataset Analysis and Engineering\n",
        "In an ideal world all aspects would have been factored in market price of a stock. In light  of this and requirement of prophet libray, we would drop all columns from RIL dataframe except 'Date' and 'Adj Close'. Prophet accepts ds (datestamp) in format expected by Pandas which is YYYY-MM-DD for a date or YYYY-MM-DD HH:MM:SS for a timestamp. To align the dataframe RIL to be used with Prophet we would require to change the column names to 'ds' and 'y.\n"
      ]
    },
    {
      "cell_type": "code",
      "metadata": {
        "id": "wa-8Z9k9lCPd"
      },
      "source": [
        "RIL = RIL[['Date', 'Adj Close']]\n",
        "RIL=RIL.rename(columns = {'Date' : 'ds', 'Adj Close': 'y'})\n",
        "RIL.head(2)"
      ],
      "execution_count": null,
      "outputs": []
    },
    {
      "cell_type": "markdown",
      "metadata": {
        "id": "Bvnqn7X2Bb_D"
      },
      "source": [
        "## Applying Prophet Model to Dataset\n",
        "We are now all set. Call Prophet function and name it. I have named it (could be anything). Now fit this model to the dataframe RIL. There are other are other parameters which we will not consider in this case so please ignore the #INFO once cell is executed."
      ]
    },
    {
      "cell_type": "code",
      "metadata": {
        "id": "aY4ArAvDCN0Q"
      },
      "source": [
        "model = Prophet()\n",
        "model.fit(RIL)"
      ],
      "execution_count": null,
      "outputs": []
    },
    {
      "cell_type": "markdown",
      "metadata": {
        "id": "SmZ-nVkSC_II"
      },
      "source": [
        "# Creating Test/Prediction Dataset\n",
        "In order to make predictions we would need a dataframe with a column ds which shall contain the dates for which a prediction is to be made. This can be suitably created  using helper method Prophet.make_future_dataframe, specifying number of days for which prediction is required to be made. By default this dataframe will also include the dates from the history so that we can check model fit."
      ]
    },
    {
      "cell_type": "code",
      "metadata": {
        "id": "IZ75DfoUC5S0"
      },
      "source": [
        "future = model.make_future_dataframe(periods=30)\n",
        "future.tail()"
      ],
      "execution_count": null,
      "outputs": []
    },
    {
      "cell_type": "markdown",
      "metadata": {
        "id": "qrERKmzvEchq"
      },
      "source": [
        "# Obtaining Predicted Results\n",
        "The model which was trained on the historical data(RIL dataframe above) is now used to pass predicted value(yhat) to each row of future datset(Akin to test dataset) when we execute model.predict(future). The result are saved in new dataset forecast which besides timeseries stamp(ds), predicted value(ys) values, also includes upper(yhat_upper) and lower(yhat_lower) levels of errors."
      ]
    },
    {
      "cell_type": "code",
      "metadata": {
        "id": "jRTyGoxlEwyY"
      },
      "source": [
        "forecast = model.predict(future)\n",
        "forecast[['ds', 'yhat', 'yhat_lower', 'yhat_upper']].tail()"
      ],
      "execution_count": null,
      "outputs": []
    },
    {
      "cell_type": "markdown",
      "metadata": {
        "id": "pY2nGA2CLL_1"
      },
      "source": [
        "# Interactive Visualization\n",
        "To facilitate visualization, plot_plotly, plot_components_plotly can be called and function plot_plotly be executed using 'model' and 'forecast'. "
      ]
    },
    {
      "cell_type": "code",
      "metadata": {
        "id": "-OVenw6-FGhf"
      },
      "source": [
        "from prophet.plot import plot_plotly, plot_components_plotly\n",
        "\n",
        "plot_plotly(model, forecast)"
      ],
      "execution_count": null,
      "outputs": []
    },
    {
      "cell_type": "markdown",
      "metadata": {
        "id": "cMF0HfbIQWOS"
      },
      "source": [
        "# Reference\n",
        "https://facebook.github.io/prophet/docs/quick_start.html"
      ]
    },
    {
      "cell_type": "code",
      "metadata": {
        "id": "cod1kMa7Fehs"
      },
      "source": [
        ""
      ],
      "execution_count": null,
      "outputs": []
    },
    {
      "cell_type": "code",
      "metadata": {
        "id": "bRaIKBSSJlkV"
      },
      "source": [
        ""
      ],
      "execution_count": null,
      "outputs": []
    }
  ]
}
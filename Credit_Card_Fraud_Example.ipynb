{
  "nbformat": 4,
  "nbformat_minor": 0,
  "metadata": {
    "colab": {
      "name": "Credit Card Fraud- Example",
      "private_outputs": true,
      "provenance": [],
      "authorship_tag": "ABX9TyMHvItS/ReqZ29x/mh98b7/",
      "include_colab_link": true
    },
    "kernelspec": {
      "name": "python3",
      "display_name": "Python 3"
    },
    "language_info": {
      "name": "python"
    }
  },
  "cells": [
    {
      "cell_type": "markdown",
      "metadata": {
        "id": "view-in-github",
        "colab_type": "text"
      },
      "source": [
        "<a href=\"https://colab.research.google.com/github/RajeevBhadola/myrepo/blob/master/Credit_Card_Fraud_Example.ipynb\" target=\"_parent\"><img src=\"https://colab.research.google.com/assets/colab-badge.svg\" alt=\"Open In Colab\"/></a>"
      ]
    },
    {
      "cell_type": "code",
      "metadata": {
        "id": "lRE0y81mxWnI"
      },
      "source": [
        "import pandas as pd # data processing\n",
        "import numpy as np # working with arrays\n",
        "import matplotlib.pyplot as plt # visualization\n",
        "from termcolor import colored as cl # text customization\n",
        "import itertools # advanced tools"
      ],
      "execution_count": null,
      "outputs": []
    },
    {
      "cell_type": "code",
      "metadata": {
        "id": "jWyf2mTaK4Xf"
      },
      "source": [
        "from sklearn.preprocessing import StandardScaler # data normalization\n",
        "from sklearn.model_selection import train_test_split # data split\n",
        "from sklearn.tree import DecisionTreeClassifier # Decision tree algorithm\n",
        "from sklearn.neighbors import KNeighborsClassifier # KNN algorithm\n",
        "from sklearn.linear_model import LogisticRegression # Logistic regression algorithm\n",
        "from sklearn.svm import SVC # SVM algorithm\n",
        "from sklearn.ensemble import RandomForestClassifier # Random forest tree algorithm\n",
        "from xgboost import XGBClassifier # XGBoost algorithm"
      ],
      "execution_count": null,
      "outputs": []
    },
    {
      "cell_type": "code",
      "metadata": {
        "id": "Umegyj_zLAfd"
      },
      "source": [
        "from sklearn.metrics import confusion_matrix # evaluation metric\n",
        "from sklearn.metrics import accuracy_score # evaluation metric\n",
        "from sklearn.metrics import f1_score # evaluation metric"
      ],
      "execution_count": null,
      "outputs": []
    },
    {
      "cell_type": "code",
      "metadata": {
        "id": "DrpZ9ZmFLGo-"
      },
      "source": [
        "from google.colab import files\n",
        "uploaded = files.upload()"
      ],
      "execution_count": null,
      "outputs": []
    },
    {
      "cell_type": "code",
      "metadata": {
        "id": "cxhHPi5fLswd"
      },
      "source": [
        "df = pd.read_csv('creditcard.csv')\n",
        "df.head()"
      ],
      "execution_count": null,
      "outputs": []
    },
    {
      "cell_type": "code",
      "metadata": {
        "id": "-v2AoiBwNPS7"
      },
      "source": [
        "df.drop('Time', axis=1, inplace = True)\n",
        "df.head()"
      ],
      "execution_count": null,
      "outputs": []
    },
    {
      "cell_type": "code",
      "metadata": {
        "id": "ACqPLz--VoHm"
      },
      "source": [
        "cases = len(df)\n",
        "nonfraud_count = len(df[df.Class==0])\n",
        "fraud_count = len(df[df.Class ==1])\n",
        "fraud_percentage = round((fraud_count/(fraud_count+ nonfraud_count))*100, 2)"
      ],
      "execution_count": null,
      "outputs": []
    },
    {
      "cell_type": "code",
      "metadata": {
        "id": "KrzlyWxoWbPL"
      },
      "source": [
        "print(cl('CASE COUNT', attrs = ['bold']))\n",
        "print(cl('-----------------------------', attrs = ['bold']))\n",
        "print(cl(\"Number of Cases are {}\".format(cases),attrs = ['bold']))\n",
        "print(cl(\"Number of Non Fraud Cases {}\".format(nonfraud_count),attrs = ['bold']))\n",
        "print(cl(\"Number of Fraud Cases {}\".format(fraud_count),attrs = ['bold']))\n",
        "print(cl(\"Percentage of Fraud Cases are {}\".format(fraud_percentage), attrs=['bold']))"
      ],
      "execution_count": null,
      "outputs": []
    },
    {
      "cell_type": "code",
      "metadata": {
        "id": "e77YtlDXYJNx"
      },
      "source": [
        "nonfraud = df[df.Class == 0]\n",
        "fraud = df[df.Class == 1]\n",
        "print(cl('Case Count', attrs =['bold']))\n",
        "print(cl('---------------------------', attrs=['bold']))\n",
        "print(cl(\"Non Fraud Cases Amounts Stats\", attrs=['bold']))\n",
        "print(nonfraud.Amount.describe())\n",
        "print(cl(\"Fraud Cases Amounts Stats\", attrs=['bold']))\n",
        "print(fraud.Amount.describe())\n",
        "print(cl('---------------------------', attrs=['bold']))"
      ],
      "execution_count": null,
      "outputs": []
    },
    {
      "cell_type": "code",
      "metadata": {
        "id": "jxanp04efEX3"
      },
      "source": [
        "sc = StandardScaler()\n",
        "amount = df['Amount'].values\n",
        "df['Amount'] = sc.fit_transform(amount.reshape(-1,1))\n",
        "print(cl(df['Amount'].head(15), attrs =['bold']))"
      ],
      "execution_count": null,
      "outputs": []
    },
    {
      "cell_type": "code",
      "metadata": {
        "id": "bPzdAxacgpjZ"
      },
      "source": [
        "x = df.drop('Class', axis = 1).values\n",
        "y= df['Class'].values\n",
        "X_train, X_test, y_train, y_test = train_test_split(x,y, test_size =0.2, random_state = 0)\n",
        "print(cl('X_train samples : ', attrs =['bold']), X_train[:1])\n",
        "print(cl('X_test samples : ', attrs =['bold']), X_test[0:20])\n",
        "print(cl('y_train samples : ', attrs =['bold']), y_train[0:20])\n",
        "print(cl('y_test samples : ', attrs =['bold']), y_test[0:20])"
      ],
      "execution_count": null,
      "outputs": []
    },
    {
      "cell_type": "code",
      "metadata": {
        "id": "jpSt2WnmpbeO"
      },
      "source": [
        "tree_model = DecisionTreeClassifier(max_depth= 4, criterion='entropy')\n",
        "tree_model.fit(X_train, y_train)\n",
        "tree_yhat = tree_model.predict(X_test)\n",
        "\n",
        "\n",
        "n=5\n",
        "knn = KNeighborsClassifier(n_neighbors= 5)\n",
        "knn.fit(X_train, y_train)\n",
        "knn_yhat = knn.predict(X_test)\n",
        "\n",
        "lr = LogisticRegression()\n",
        "lr.fit(X_train, y_train)\n",
        "lr_yhat = lr.predict(X_test)\n",
        "\n",
        "svm = SVC()\n",
        "svm.fit(X_train, y_train)\n",
        "svm_yhat = svm.predict(X_test)\n",
        "\n",
        "rf = RandomForestClassifier(max_depth = 4)\n",
        "rf.fit(X_train, y_train)\n",
        "rf_yhat = rf.predict(X_test)\n",
        "\n",
        "xgb = XGBClassifier(max_depth= 4)\n",
        "xgb.fit(X_train, y_train)\n",
        "xgb_yhat = xgb.predict(X_test)"
      ],
      "execution_count": null,
      "outputs": []
    },
    {
      "cell_type": "code",
      "metadata": {
        "id": "e3fjbjzOsvB2"
      },
      "source": [
        "print(cl('ACCURACY SCORE', attrs = ['bold']))\n",
        "print(cl('---------------------------', attrs =['bold']))\n",
        "print(cl(\"Accuracy of decision tree model is : {}\".format(accuracy_score (y_test,tree_yhat )), attrs =['bold'], color ='green'))\n",
        "print(cl(\"---------------------------\", attrs =['bold']))\n",
        "print(cl(\"Accuracy of Nearest Neighbour model is : {}\".format(accuracy_score (y_test,knn_yhat )), attrs =['bold'], color ='blue'))\n",
        "print(cl('---------------------------', attrs =['bold']))\n",
        "print(cl(\"Accuracy of Logistic Regression model is : {}\".format(accuracy_score (y_test, lr_yhat )), attrs =['bold'], color ='red'))\n",
        "print(cl('---------------------------', attrs =['bold']))\n",
        "print(cl(\"Accuracy of SVC model is : {}\".format(accuracy_score (y_test, svm_yhat )), attrs =['bold'], color ='green'))\n",
        "print(cl('---------------------------', attrs =['bold']))\n",
        "print(cl(\"Accuracy of Random Forest model is : {}\".format(accuracy_score (y_test, rf_yhat )), attrs =['bold'], color ='blue'))\n",
        "print(cl('---------------------------', attrs =['bold']))\n",
        "print(cl(\"Accuracy of xgb model is : {}\".format(accuracy_score (y_test, xgb_yhat )), attrs =['bold'], color ='red'))"
      ],
      "execution_count": null,
      "outputs": []
    },
    {
      "cell_type": "code",
      "metadata": {
        "id": "rNi_-NEVxMWd"
      },
      "source": [
        "from sklearn.metrics import confusion_matrix\n",
        "#Get the confusion matrix\n",
        "tree_matrix = confusion_matrix(y_test, tree_yhat)\n",
        "print(tree_matrix)\n",
        "\n",
        "knn_matrix = confusion_matrix(y_test, knn_yhat)\n",
        "print(knn_matrix)\n",
        "\n",
        "lr_matrix = confusion_matrix(y_test, lr_yhat)\n",
        "print(lr_matrix)\n",
        "\n",
        "svm_matrix = confusion_matrix(y_test, svm_yhat)\n",
        "print(svm_matrix)\n",
        "\n",
        "xgb_matrix = confusion_matrix(y_test, xgb_yhat)\n",
        "print(xgb_matrix)\n",
        "\n"
      ],
      "execution_count": null,
      "outputs": []
    },
    {
      "cell_type": "code",
      "metadata": {
        "id": "DwGOFk77iZ0H"
      },
      "source": [
        "import seaborn as sns\n",
        "sns.heatmap(tree_matrix, annot=True)\n",
        "sns.heatmap(knn_matrix, annot=True)"
      ],
      "execution_count": null,
      "outputs": []
    },
    {
      "cell_type": "code",
      "metadata": {
        "id": "oDGwYd8Yx-v9"
      },
      "source": [
        ""
      ],
      "execution_count": null,
      "outputs": []
    }
  ]
}
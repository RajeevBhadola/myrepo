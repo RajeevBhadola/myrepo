{
  "nbformat": 4,
  "nbformat_minor": 0,
  "metadata": {
    "colab": {
      "name": "Machine Learning- IRIS.ipynb",
      "private_outputs": true,
      "provenance": [],
      "authorship_tag": "ABX9TyN7ZEOv/DNCkfAVYAE8xzde",
      "include_colab_link": true
    },
    "kernelspec": {
      "name": "python3",
      "display_name": "Python 3"
    }
  },
  "cells": [
    {
      "cell_type": "markdown",
      "metadata": {
        "id": "view-in-github",
        "colab_type": "text"
      },
      "source": [
        "<a href=\"https://colab.research.google.com/github/rajeelz/myrepo/blob/master/Machine_Learning_IRIS.ipynb\" target=\"_parent\"><img src=\"https://colab.research.google.com/assets/colab-badge.svg\" alt=\"Open In Colab\"/></a>"
      ]
    },
    {
      "cell_type": "markdown",
      "metadata": {
        "id": "iH5MiUUogwMK"
      },
      "source": [
        "\r\n",
        "\r\n",
        " **SIMPLE MACHINE LEARNING - USING IRIS DATASET**\r\n",
        "\r\n",
        "\r\n",
        "\r\n",
        "\r\n",
        "\r\n",
        "\r\n"
      ]
    },
    {
      "cell_type": "markdown",
      "metadata": {
        "id": "vpOkFdCIhT2n"
      },
      "source": [
        "Step 1 - Import Libraries"
      ]
    },
    {
      "cell_type": "code",
      "metadata": {
        "id": "0Rn7OIJceErw"
      },
      "source": [
        "import numpy as np\r\n",
        "import pandas as pd\r\n",
        "import matplotlib.pyplot as plt\r\n",
        "import seaborn as sns"
      ],
      "execution_count": null,
      "outputs": []
    },
    {
      "cell_type": "code",
      "metadata": {
        "id": "f1GFIzQxeTV3"
      },
      "source": [
        "from sklearn.model_selection import train_test_split\r\n",
        "from sklearn.neighbors import KNeighborsClassifier\r\n",
        "from sklearn.metrics import confusion_matrix\r\n",
        "from joblib import dump, load"
      ],
      "execution_count": null,
      "outputs": []
    },
    {
      "cell_type": "markdown",
      "metadata": {
        "id": "cMR7d9wnhhS_"
      },
      "source": [
        "Step 2 - Importing dataset"
      ]
    },
    {
      "cell_type": "code",
      "metadata": {
        "id": "JTE4hEY9fSdi"
      },
      "source": [
        "cols = ['sepal_length', ' sepal_width', 'petal_length', 'petal_width', 'class']\r\n",
        "url = 'https://archive.ics.uci.edu/ml/machine-learning-databases/iris/iris.data'\r\n",
        "data = pd.read_csv(url, names = cols)"
      ],
      "execution_count": null,
      "outputs": []
    },
    {
      "cell_type": "markdown",
      "metadata": {
        "id": "l_rnxDorh2qt"
      },
      "source": [
        "Step 3 - Data exploration and Visualisation"
      ]
    },
    {
      "cell_type": "code",
      "metadata": {
        "id": "FvloupZOf2dC"
      },
      "source": [
        "data.head()"
      ],
      "execution_count": null,
      "outputs": []
    },
    {
      "cell_type": "code",
      "metadata": {
        "id": "AgQ6AEXZiGFX"
      },
      "source": [
        "sns.pairplot(data,hue = 'class')"
      ],
      "execution_count": null,
      "outputs": []
    },
    {
      "cell_type": "code",
      "metadata": {
        "id": "2HX62BqxgCDt"
      },
      "source": [
        "sns.heatmap(data.corr(), annot= True)"
      ],
      "execution_count": null,
      "outputs": []
    },
    {
      "cell_type": "markdown",
      "metadata": {
        "id": "C1jyAx2CnrIg"
      },
      "source": [
        "Step 4 - Preprossing the dataset"
      ]
    },
    {
      "cell_type": "code",
      "metadata": {
        "id": "i7FCKEUGkfCz"
      },
      "source": [
        "data['class_encod'] = data['class'].apply(lambda x: 0 if x == 'Iris-setosa' else 1 if x == 'Iris-versicolor' else 2)\r\n",
        "data['class_encod'].unique()"
      ],
      "execution_count": null,
      "outputs": []
    },
    {
      "cell_type": "code",
      "metadata": {
        "id": "0G6XBgWNlVS7"
      },
      "source": [
        "data.tail()"
      ],
      "execution_count": null,
      "outputs": []
    },
    {
      "cell_type": "code",
      "metadata": {
        "id": "JEILs4y3nJR6"
      },
      "source": [
        "X = data.iloc[:,:4] # features\r\n",
        "y =data.class_encod # label"
      ],
      "execution_count": null,
      "outputs": []
    },
    {
      "cell_type": "code",
      "metadata": {
        "id": "x4yW3X0QoBYs"
      },
      "source": [
        "X.head()"
      ],
      "execution_count": null,
      "outputs": []
    },
    {
      "cell_type": "markdown",
      "metadata": {
        "id": "nUxj1MdOp76F"
      },
      "source": [
        "Step 5 - Spliting the testing and training dataset"
      ]
    },
    {
      "cell_type": "code",
      "metadata": {
        "id": "BbM6vM9Vol-i"
      },
      "source": [
        "X_train, X_test, y_train, y_test = train_test_split(X,y, test_size = 0.2, random_state = 0, stratify = y)\r\n",
        "# stratify will preserve the proportion of target as in original dataset, in the train and test"
      ],
      "execution_count": null,
      "outputs": []
    },
    {
      "cell_type": "code",
      "metadata": {
        "id": "2KKIU2NJq-ql"
      },
      "source": [
        "np.shape(y_train)"
      ],
      "execution_count": null,
      "outputs": []
    },
    {
      "cell_type": "markdown",
      "metadata": {
        "id": "DG7POS75sDei"
      },
      "source": [
        "Step 6 - Applying the selected model"
      ]
    },
    {
      "cell_type": "code",
      "metadata": {
        "id": "PLNGkMFyrGFL"
      },
      "source": [
        "model = KNeighborsClassifier()\r\n",
        "model.fit(X_train,np.ravel(y_train))\r\n",
        "model.predict(X_test.iloc[0:10])"
      ],
      "execution_count": null,
      "outputs": []
    },
    {
      "cell_type": "code",
      "metadata": {
        "id": "5KcfEiVYsZsp"
      },
      "source": [
        "model.score(X_test, y_test)\r\n",
        "confusion_matrix(y_test, model.predict(X_test))\r\n"
      ],
      "execution_count": null,
      "outputs": []
    },
    {
      "cell_type": "markdown",
      "metadata": {
        "id": "MUw71lV23CRY"
      },
      "source": [
        "Step 7 - Saving the model"
      ]
    },
    {
      "cell_type": "code",
      "metadata": {
        "id": "WzExxF_LtVua"
      },
      "source": [
        "dump(model, 'iris-classifier.dmp')\r\n",
        "\r\n",
        "ic = load('iris-classifier.dmp')\r\n",
        "confusion_matrix(y_test, ic.predict(X_test))"
      ],
      "execution_count": null,
      "outputs": []
    },
    {
      "cell_type": "code",
      "metadata": {
        "id": "BUoP-CN53bcC"
      },
      "source": [
        ""
      ],
      "execution_count": null,
      "outputs": []
    }
  ]
}
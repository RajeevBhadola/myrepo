{
  "nbformat": 4,
  "nbformat_minor": 0,
  "metadata": {
    "colab": {
      "name": "Boston housing - Simple Regression",
      "private_outputs": true,
      "provenance": [],
      "authorship_tag": "ABX9TyNkVL060azThenwD0RIlz9d",
      "include_colab_link": true
    },
    "kernelspec": {
      "name": "python3",
      "display_name": "Python 3"
    },
    "language_info": {
      "name": "python"
    }
  },
  "cells": [
    {
      "cell_type": "markdown",
      "metadata": {
        "id": "view-in-github",
        "colab_type": "text"
      },
      "source": [
        "<a href=\"https://colab.research.google.com/github/RajeevBhadola/myrepo/blob/master/Boston_housing_Simple_Regression.ipynb\" target=\"_parent\"><img src=\"https://colab.research.google.com/assets/colab-badge.svg\" alt=\"Open In Colab\"/></a>"
      ]
    },
    {
      "cell_type": "code",
      "metadata": {
        "id": "RSodnfseSUw9"
      },
      "source": [
        "import numpy as np\n",
        "import pandas as pd\n",
        "import matplotlib.pyplot as plt\n",
        "import seaborn as sns"
      ],
      "execution_count": null,
      "outputs": []
    },
    {
      "cell_type": "code",
      "metadata": {
        "id": "PE1Uh0SqSoou"
      },
      "source": [
        "from sklearn.datasets import load_boston\n",
        "boston_dataset =load_boston()"
      ],
      "execution_count": null,
      "outputs": []
    },
    {
      "cell_type": "code",
      "metadata": {
        "id": "4YHRC1avTE6M"
      },
      "source": [
        "print(boston_dataset.keys())"
      ],
      "execution_count": null,
      "outputs": []
    },
    {
      "cell_type": "code",
      "metadata": {
        "id": "RtHOBwjbTVaZ"
      },
      "source": [
        "print(boston_dataset.DESCR)"
      ],
      "execution_count": null,
      "outputs": []
    },
    {
      "cell_type": "code",
      "metadata": {
        "id": "Z2Nix_hdT2YI"
      },
      "source": [
        "boston = pd.DataFrame(boston_dataset.data, columns= boston_dataset.feature_names)\n",
        "boston.head()"
      ],
      "execution_count": null,
      "outputs": []
    },
    {
      "cell_type": "code",
      "metadata": {
        "id": "7p1FlyRAWTYz"
      },
      "source": [
        "boston['MEDV']= boston_dataset.target"
      ],
      "execution_count": null,
      "outputs": []
    },
    {
      "cell_type": "code",
      "metadata": {
        "id": "g5yVYN_mXTQc"
      },
      "source": [
        "boston.head()"
      ],
      "execution_count": null,
      "outputs": []
    },
    {
      "cell_type": "code",
      "metadata": {
        "id": "dw6yzEavXWQ4"
      },
      "source": [
        "data_ = boston.loc[:, ['LSTAT', 'MEDV']]\n",
        "data_.head(5)"
      ],
      "execution_count": null,
      "outputs": []
    },
    {
      "cell_type": "code",
      "metadata": {
        "id": "vFEAA5a1YOv9"
      },
      "source": [
        "data_ = boston.loc[:, ['LSTAT', 'MEDV']]\n",
        "boston.plot(x= 'LSTAT', y = 'MEDV', style ='o')\n",
        "plt.xlabel('LSAT')\n",
        "plt.ylabel('MEDV')\n",
        "plt.show()"
      ],
      "execution_count": null,
      "outputs": []
    },
    {
      "cell_type": "code",
      "metadata": {
        "id": "fWYr4NbUbatm"
      },
      "source": [
        "X = pd.DataFrame(boston['LSTAT'])\n",
        "y = pd.DataFrame(boston['MEDV'])"
      ],
      "execution_count": null,
      "outputs": []
    },
    {
      "cell_type": "code",
      "metadata": {
        "id": "Pla1yuK8b_B9"
      },
      "source": [
        "from sklearn.model_selection import train_test_split\n",
        "X_train, X_test, y_train, y_test = train_test_split(X,y, test_size = 0.2, random_state = 0)"
      ],
      "execution_count": null,
      "outputs": []
    },
    {
      "cell_type": "code",
      "metadata": {
        "id": "PJ2xjZ1tcBZh"
      },
      "source": [
        "print(X_train.shape, X_test.shape, y_train.shape, y_test.shape)"
      ],
      "execution_count": null,
      "outputs": []
    },
    {
      "cell_type": "code",
      "metadata": {
        "id": "4JpcMaUyc5kn"
      },
      "source": [
        "from sklearn.linear_model import LinearRegression\n",
        "model = LinearRegression()\n",
        "model.fit(X_train, y_train)"
      ],
      "execution_count": null,
      "outputs": []
    },
    {
      "cell_type": "code",
      "metadata": {
        "id": "DQAzcqNAfaaR"
      },
      "source": [
        "print(model.intercept_)"
      ],
      "execution_count": null,
      "outputs": []
    },
    {
      "cell_type": "code",
      "metadata": {
        "id": "h8zc2HxhfqeA"
      },
      "source": [
        "print(model.coef_)"
      ],
      "execution_count": null,
      "outputs": []
    },
    {
      "cell_type": "code",
      "metadata": {
        "id": "lXVUkSU6fzg1"
      },
      "source": [
        "predict_y = model.predict(X_test)"
      ],
      "execution_count": null,
      "outputs": []
    },
    {
      "cell_type": "code",
      "metadata": {
        "id": "e5umsbUef8lw"
      },
      "source": [
        "y_test"
      ],
      "execution_count": null,
      "outputs": []
    },
    {
      "cell_type": "code",
      "metadata": {
        "id": "Mat1aTHJhEpI"
      },
      "source": [
        "predict_y"
      ],
      "execution_count": null,
      "outputs": []
    },
    {
      "cell_type": "code",
      "metadata": {
        "id": "_jFWMa-0hHXf"
      },
      "source": [
        "from sklearn import metrics\n",
        "import numpy as np\n",
        "print('mean absolute error:',metrics.mean_absolute_error(y_test, predict_y))\n",
        "print('mean Squared error:',metrics.mean_squared_error(y_test, predict_y))\n",
        "print('Root mean Squared error:', np.sqrt(metrics.mean_squared_error(y_test, predict_y)))"
      ],
      "execution_count": null,
      "outputs": []
    },
    {
      "cell_type": "code",
      "metadata": {
        "id": "TvVjaWRBE2N0"
      },
      "source": [
        ""
      ],
      "execution_count": null,
      "outputs": []
    }
  ]
}